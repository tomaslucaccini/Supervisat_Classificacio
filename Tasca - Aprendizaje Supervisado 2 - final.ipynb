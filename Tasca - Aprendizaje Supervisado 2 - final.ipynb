{
 "cells": [
  {
   "cell_type": "code",
   "execution_count": 1,
   "metadata": {},
   "outputs": [],
   "source": [
    "import numpy as np\n",
    "import pandas as pd\n",
    "import matplotlib.pyplot as plt\n",
    "import seaborn as sns"
   ]
  },
  {
   "cell_type": "code",
   "execution_count": 2,
   "metadata": {},
   "outputs": [],
   "source": [
    "from sklearn.preprocessing import StandardScaler\n",
    "from sklearn.preprocessing import scale"
   ]
  },
  {
   "cell_type": "code",
   "execution_count": 3,
   "metadata": {},
   "outputs": [],
   "source": [
    "from sklearn.linear_model import LinearRegression\n",
    "from sklearn.linear_model import Ridge\n",
    "from sklearn.linear_model import Lasso\n",
    "from sklearn.linear_model import LogisticRegression\n",
    "from sklearn.neighbors import KNeighborsRegressor\n",
    "from sklearn.feature_selection import SelectFromModel\n",
    "from sklearn.ensemble import RandomForestClassifier\n",
    "from sklearn.ensemble import RandomForestRegressor\n",
    "from sklearn.tree import DecisionTreeClassifier\n",
    "from sklearn.tree import DecisionTreeRegressor\n",
    "from sklearn.neural_network import MLPClassifier\n",
    "from sklearn.linear_model import Ridge\n",
    "from sklearn.linear_model import Lasso\n",
    "from sklearn.linear_model import ElasticNet"
   ]
  },
  {
   "cell_type": "code",
   "execution_count": 4,
   "metadata": {},
   "outputs": [],
   "source": [
    "from sklearn import preprocessing\n",
    "from sklearn.metrics import r2_score\n",
    "from sklearn import metrics\n",
    "from sklearn import datasets\n",
    "from sklearn.metrics import classification_report, confusion_matrix"
   ]
  },
  {
   "cell_type": "code",
   "execution_count": 5,
   "metadata": {},
   "outputs": [],
   "source": [
    "# Sklearn regression model evaluation functions\n",
    "from sklearn.metrics import mean_absolute_error\n",
    "from sklearn.metrics import mean_squared_error\n",
    "from math import sqrt\n",
    "from sklearn.metrics import r2_score"
   ]
  },
  {
   "cell_type": "markdown",
   "metadata": {},
   "source": [
    "### Lectura de Train & Test sets"
   ]
  },
  {
   "cell_type": "code",
   "execution_count": 6,
   "metadata": {},
   "outputs": [],
   "source": [
    "data = pd.read_csv('Delayed_Flights_no_dummies_train.csv', ',')\n",
    "#test = pd.read_csv('Delayed_Flights_test_final.csv', ',')"
   ]
  },
  {
   "cell_type": "code",
   "execution_count": 7,
   "metadata": {},
   "outputs": [
    {
     "data": {
      "text/plain": [
       "1542690"
      ]
     },
     "execution_count": 7,
     "metadata": {},
     "output_type": "execute_result"
    }
   ],
   "source": [
    "len(data)"
   ]
  },
  {
   "cell_type": "markdown",
   "metadata": {},
   "source": [
    "### Reducción de Muestra para facilitar y agilizar implementación de modelos"
   ]
  },
  {
   "cell_type": "code",
   "execution_count": 8,
   "metadata": {},
   "outputs": [],
   "source": [
    "reduced_sample_train, reduced_sample_test = train_test_split(data, test_size = 0.8, random_state=42)"
   ]
  },
  {
   "cell_type": "code",
   "execution_count": 9,
   "metadata": {},
   "outputs": [
    {
     "data": {
      "text/plain": [
       "308538"
      ]
     },
     "execution_count": 9,
     "metadata": {},
     "output_type": "execute_result"
    }
   ],
   "source": [
    "len(reduced_sample_train)"
   ]
  },
  {
   "cell_type": "code",
   "execution_count": 10,
   "metadata": {},
   "outputs": [],
   "source": [
    "train, test = train_test_split(reduced_sample_train, test_size = 0.2, random_state=42)"
   ]
  },
  {
   "cell_type": "code",
   "execution_count": 11,
   "metadata": {},
   "outputs": [
    {
     "data": {
      "text/html": [
       "<div>\n",
       "<style scoped>\n",
       "    .dataframe tbody tr th:only-of-type {\n",
       "        vertical-align: middle;\n",
       "    }\n",
       "\n",
       "    .dataframe tbody tr th {\n",
       "        vertical-align: top;\n",
       "    }\n",
       "\n",
       "    .dataframe thead th {\n",
       "        text-align: right;\n",
       "    }\n",
       "</style>\n",
       "<table border=\"1\" class=\"dataframe\">\n",
       "  <thead>\n",
       "    <tr style=\"text-align: right;\">\n",
       "      <th></th>\n",
       "      <th>Unnamed: 0</th>\n",
       "      <th>index</th>\n",
       "      <th>DayOfWeek</th>\n",
       "      <th>FullCarrier</th>\n",
       "      <th>Origin</th>\n",
       "      <th>Dest</th>\n",
       "      <th>Cancelled</th>\n",
       "      <th>ArrDelay</th>\n",
       "      <th>CRSElapsedTime</th>\n",
       "      <th>DepDelay</th>\n",
       "      <th>ArrTime</th>\n",
       "      <th>DepTime</th>\n",
       "      <th>AirTime</th>\n",
       "      <th>Distance</th>\n",
       "      <th>AvgSpeed</th>\n",
       "      <th>10%_Delayed</th>\n",
       "      <th>ArrDelay_vs_CRSElapsedTime</th>\n",
       "      <th>Delay_level</th>\n",
       "      <th>ArrTime_Range</th>\n",
       "      <th>DepTime_Range</th>\n",
       "    </tr>\n",
       "  </thead>\n",
       "  <tbody>\n",
       "    <tr>\n",
       "      <td>433956</td>\n",
       "      <td>433957</td>\n",
       "      <td>1370696</td>\n",
       "      <td>1</td>\n",
       "      <td>Atlantic Southeast Airlines</td>\n",
       "      <td>ATL</td>\n",
       "      <td>MDT</td>\n",
       "      <td>0</td>\n",
       "      <td>-0.654889</td>\n",
       "      <td>-0.269780</td>\n",
       "      <td>-0.470946</td>\n",
       "      <td>20:08</td>\n",
       "      <td>18:26</td>\n",
       "      <td>-0.295680</td>\n",
       "      <td>-0.254649</td>\n",
       "      <td>0.246426</td>\n",
       "      <td>0</td>\n",
       "      <td>-0.567365</td>\n",
       "      <td>Not_delayed</td>\n",
       "      <td>2000-2059</td>\n",
       "      <td>1800-1859</td>\n",
       "    </tr>\n",
       "    <tr>\n",
       "      <td>1178304</td>\n",
       "      <td>1178309</td>\n",
       "      <td>610718</td>\n",
       "      <td>7</td>\n",
       "      <td>American Airlines Inc.</td>\n",
       "      <td>BOS</td>\n",
       "      <td>ORD</td>\n",
       "      <td>0</td>\n",
       "      <td>0.172920</td>\n",
       "      <td>0.502599</td>\n",
       "      <td>0.298884</td>\n",
       "      <td>16:52</td>\n",
       "      <td>15:09</td>\n",
       "      <td>0.360211</td>\n",
       "      <td>0.177614</td>\n",
       "      <td>-0.058033</td>\n",
       "      <td>1</td>\n",
       "      <td>-0.150075</td>\n",
       "      <td>20_to_40%_Delay</td>\n",
       "      <td>1600-1659</td>\n",
       "      <td>1500-1559</td>\n",
       "    </tr>\n",
       "    <tr>\n",
       "      <td>1331798</td>\n",
       "      <td>1331804</td>\n",
       "      <td>836451</td>\n",
       "      <td>4</td>\n",
       "      <td>Southwest Airlines Co.</td>\n",
       "      <td>SMF</td>\n",
       "      <td>PDX</td>\n",
       "      <td>0</td>\n",
       "      <td>-0.232178</td>\n",
       "      <td>-0.691077</td>\n",
       "      <td>-0.508498</td>\n",
       "      <td>07:54</td>\n",
       "      <td>06:16</td>\n",
       "      <td>-0.295680</td>\n",
       "      <td>-0.498669</td>\n",
       "      <td>-0.693538</td>\n",
       "      <td>1</td>\n",
       "      <td>-0.094542</td>\n",
       "      <td>20_to_40%_Delay</td>\n",
       "      <td>0700-0759</td>\n",
       "      <td>0600-0659</td>\n",
       "    </tr>\n",
       "    <tr>\n",
       "      <td>1473141</td>\n",
       "      <td>1473147</td>\n",
       "      <td>957758</td>\n",
       "      <td>4</td>\n",
       "      <td>Northwest Airlines Inc.</td>\n",
       "      <td>IND</td>\n",
       "      <td>DTW</td>\n",
       "      <td>0</td>\n",
       "      <td>-0.795793</td>\n",
       "      <td>-0.859596</td>\n",
       "      <td>-0.639933</td>\n",
       "      <td>14:42</td>\n",
       "      <td>13:41</td>\n",
       "      <td>-0.936995</td>\n",
       "      <td>-0.930932</td>\n",
       "      <td>-0.807661</td>\n",
       "      <td>0</td>\n",
       "      <td>-0.700645</td>\n",
       "      <td>Not_delayed</td>\n",
       "      <td>1400-1459</td>\n",
       "      <td>1300-1359</td>\n",
       "    </tr>\n",
       "    <tr>\n",
       "      <td>1221532</td>\n",
       "      <td>1221538</td>\n",
       "      <td>1184080</td>\n",
       "      <td>5</td>\n",
       "      <td>United Air Lines Inc.</td>\n",
       "      <td>PHL</td>\n",
       "      <td>LAX</td>\n",
       "      <td>0</td>\n",
       "      <td>-0.038436</td>\n",
       "      <td>2.847822</td>\n",
       "      <td>-0.320735</td>\n",
       "      <td>10:45</td>\n",
       "      <td>07:54</td>\n",
       "      <td>2.808869</td>\n",
       "      <td>2.851370</td>\n",
       "      <td>0.803255</td>\n",
       "      <td>1</td>\n",
       "      <td>-0.446779</td>\n",
       "      <td>10_to_20%_Delay</td>\n",
       "      <td>1000-1059</td>\n",
       "      <td>0700-0759</td>\n",
       "    </tr>\n",
       "  </tbody>\n",
       "</table>\n",
       "</div>"
      ],
      "text/plain": [
       "         Unnamed: 0    index  DayOfWeek                  FullCarrier Origin  \\\n",
       "433956       433957  1370696          1  Atlantic Southeast Airlines    ATL   \n",
       "1178304     1178309   610718          7       American Airlines Inc.    BOS   \n",
       "1331798     1331804   836451          4       Southwest Airlines Co.    SMF   \n",
       "1473141     1473147   957758          4      Northwest Airlines Inc.    IND   \n",
       "1221532     1221538  1184080          5        United Air Lines Inc.    PHL   \n",
       "\n",
       "        Dest  Cancelled  ArrDelay  CRSElapsedTime  DepDelay ArrTime DepTime  \\\n",
       "433956   MDT          0 -0.654889       -0.269780 -0.470946   20:08   18:26   \n",
       "1178304  ORD          0  0.172920        0.502599  0.298884   16:52   15:09   \n",
       "1331798  PDX          0 -0.232178       -0.691077 -0.508498   07:54   06:16   \n",
       "1473141  DTW          0 -0.795793       -0.859596 -0.639933   14:42   13:41   \n",
       "1221532  LAX          0 -0.038436        2.847822 -0.320735   10:45   07:54   \n",
       "\n",
       "          AirTime  Distance  AvgSpeed  10%_Delayed  \\\n",
       "433956  -0.295680 -0.254649  0.246426            0   \n",
       "1178304  0.360211  0.177614 -0.058033            1   \n",
       "1331798 -0.295680 -0.498669 -0.693538            1   \n",
       "1473141 -0.936995 -0.930932 -0.807661            0   \n",
       "1221532  2.808869  2.851370  0.803255            1   \n",
       "\n",
       "         ArrDelay_vs_CRSElapsedTime      Delay_level ArrTime_Range  \\\n",
       "433956                    -0.567365      Not_delayed     2000-2059   \n",
       "1178304                   -0.150075  20_to_40%_Delay     1600-1659   \n",
       "1331798                   -0.094542  20_to_40%_Delay     0700-0759   \n",
       "1473141                   -0.700645      Not_delayed     1400-1459   \n",
       "1221532                   -0.446779  10_to_20%_Delay     1000-1059   \n",
       "\n",
       "        DepTime_Range  \n",
       "433956      1800-1859  \n",
       "1178304     1500-1559  \n",
       "1331798     0600-0659  \n",
       "1473141     1300-1359  \n",
       "1221532     0700-0759  "
      ]
     },
     "execution_count": 11,
     "metadata": {},
     "output_type": "execute_result"
    }
   ],
   "source": [
    "train.head()"
   ]
  },
  {
   "cell_type": "code",
   "execution_count": 12,
   "metadata": {},
   "outputs": [
    {
     "data": {
      "text/plain": [
       "Index(['Unnamed: 0', 'index', 'DayOfWeek', 'FullCarrier', 'Origin', 'Dest',\n",
       "       'Cancelled', 'ArrDelay', 'CRSElapsedTime', 'DepDelay', 'ArrTime',\n",
       "       'DepTime', 'AirTime', 'Distance', 'AvgSpeed', '10%_Delayed',\n",
       "       'ArrDelay_vs_CRSElapsedTime', 'Delay_level', 'ArrTime_Range',\n",
       "       'DepTime_Range'],\n",
       "      dtype='object')"
      ]
     },
     "execution_count": 12,
     "metadata": {},
     "output_type": "execute_result"
    }
   ],
   "source": [
    "train.columns"
   ]
  },
  {
   "cell_type": "markdown",
   "metadata": {},
   "source": [
    "# EJERCICIO 1"
   ]
  },
  {
   "cell_type": "markdown",
   "metadata": {},
   "source": [
    "### Preparación de variables para modelo rudimentario sin inclusión de variables categóricas"
   ]
  },
  {
   "cell_type": "code",
   "execution_count": 13,
   "metadata": {},
   "outputs": [],
   "source": [
    "columns_to_drop = ['FullCarrier', 'Origin', 'Dest', 'ArrDelay_vs_CRSElapsedTime', 'Delay_level', 'ArrTime_Range', 'DepTime_Range', 'Unnamed: 0', 'index', 'Cancelled', 'ArrDelay', 'CRSElapsedTime', 'ArrTime', 'DepTime', '10%_Delayed']"
   ]
  },
  {
   "cell_type": "code",
   "execution_count": 14,
   "metadata": {},
   "outputs": [],
   "source": [
    "X_train = train.drop(columns = columns_to_drop, axis=1).values\n",
    "y_train = train['10%_Delayed'].values"
   ]
  },
  {
   "cell_type": "code",
   "execution_count": 15,
   "metadata": {},
   "outputs": [
    {
     "data": {
      "text/plain": [
       "array([[ 1.        , -0.47094575, -0.29567999, -0.25464905,  0.2464258 ],\n",
       "       [ 7.        ,  0.29888444,  0.36021072,  0.17761403, -0.05803349],\n",
       "       [ 4.        , -0.50849844, -0.29567999, -0.49866854, -0.69353809],\n",
       "       ...,\n",
       "       [ 3.        , -0.56482748, -0.92242   , -0.81589386, -0.01008016],\n",
       "       [ 5.        ,  7.26490888,  0.87034794,  1.46394531,  1.73484966],\n",
       "       [ 3.        ,  0.41154252, -0.68921441, -0.59104734,  0.21659037]])"
      ]
     },
     "execution_count": 15,
     "metadata": {},
     "output_type": "execute_result"
    }
   ],
   "source": [
    "X_train"
   ]
  },
  {
   "cell_type": "code",
   "execution_count": 16,
   "metadata": {},
   "outputs": [],
   "source": [
    "X_test = test.drop(columns = columns_to_drop, axis=1).values\n",
    "y_test = test['10%_Delayed'].values"
   ]
  },
  {
   "cell_type": "code",
   "execution_count": 17,
   "metadata": {},
   "outputs": [
    {
     "data": {
      "text/plain": [
       "array([[ 5.        , -0.35828768,  1.38048515,  2.38424736,  2.29837504],\n",
       "       [ 3.        ,  7.1898035 , -0.64548836, -0.86818375, -1.44464269],\n",
       "       [ 1.        , -0.05786614,  2.167554  ,  2.65441179,  1.35033688],\n",
       "       ...,\n",
       "       [ 7.        ,  1.46301791, -0.73294046, -0.67645416, -0.06916023],\n",
       "       [ 2.        , -0.67748556, -0.82039255, -0.70957109,  0.1581011 ],\n",
       "       [ 4.        ,  0.50542425,  0.50596421,  0.39548857,  0.18901967]])"
      ]
     },
     "execution_count": 17,
     "metadata": {},
     "output_type": "execute_result"
    }
   ],
   "source": [
    "X_test"
   ]
  },
  {
   "cell_type": "code",
   "execution_count": 18,
   "metadata": {},
   "outputs": [
    {
     "data": {
      "text/html": [
       "<div>\n",
       "<style scoped>\n",
       "    .dataframe tbody tr th:only-of-type {\n",
       "        vertical-align: middle;\n",
       "    }\n",
       "\n",
       "    .dataframe tbody tr th {\n",
       "        vertical-align: top;\n",
       "    }\n",
       "\n",
       "    .dataframe thead th {\n",
       "        text-align: right;\n",
       "    }\n",
       "</style>\n",
       "<table border=\"1\" class=\"dataframe\">\n",
       "  <thead>\n",
       "    <tr style=\"text-align: right;\">\n",
       "      <th></th>\n",
       "      <th>DayOfWeek</th>\n",
       "      <th>DepDelay</th>\n",
       "      <th>AirTime</th>\n",
       "      <th>Distance</th>\n",
       "      <th>AvgSpeed</th>\n",
       "    </tr>\n",
       "  </thead>\n",
       "  <tbody>\n",
       "    <tr>\n",
       "      <td>433956</td>\n",
       "      <td>1</td>\n",
       "      <td>-0.470946</td>\n",
       "      <td>-0.295680</td>\n",
       "      <td>-0.254649</td>\n",
       "      <td>0.246426</td>\n",
       "    </tr>\n",
       "    <tr>\n",
       "      <td>1178304</td>\n",
       "      <td>7</td>\n",
       "      <td>0.298884</td>\n",
       "      <td>0.360211</td>\n",
       "      <td>0.177614</td>\n",
       "      <td>-0.058033</td>\n",
       "    </tr>\n",
       "    <tr>\n",
       "      <td>1331798</td>\n",
       "      <td>4</td>\n",
       "      <td>-0.508498</td>\n",
       "      <td>-0.295680</td>\n",
       "      <td>-0.498669</td>\n",
       "      <td>-0.693538</td>\n",
       "    </tr>\n",
       "    <tr>\n",
       "      <td>1473141</td>\n",
       "      <td>4</td>\n",
       "      <td>-0.639933</td>\n",
       "      <td>-0.936995</td>\n",
       "      <td>-0.930932</td>\n",
       "      <td>-0.807661</td>\n",
       "    </tr>\n",
       "    <tr>\n",
       "      <td>1221532</td>\n",
       "      <td>5</td>\n",
       "      <td>-0.320735</td>\n",
       "      <td>2.808869</td>\n",
       "      <td>2.851370</td>\n",
       "      <td>0.803255</td>\n",
       "    </tr>\n",
       "  </tbody>\n",
       "</table>\n",
       "</div>"
      ],
      "text/plain": [
       "         DayOfWeek  DepDelay   AirTime  Distance  AvgSpeed\n",
       "433956           1 -0.470946 -0.295680 -0.254649  0.246426\n",
       "1178304          7  0.298884  0.360211  0.177614 -0.058033\n",
       "1331798          4 -0.508498 -0.295680 -0.498669 -0.693538\n",
       "1473141          4 -0.639933 -0.936995 -0.930932 -0.807661\n",
       "1221532          5 -0.320735  2.808869  2.851370  0.803255"
      ]
     },
     "execution_count": 18,
     "metadata": {},
     "output_type": "execute_result"
    }
   ],
   "source": [
    "train.drop(columns=columns_to_drop, axis=1).head()"
   ]
  },
  {
   "cell_type": "code",
   "execution_count": 19,
   "metadata": {},
   "outputs": [
    {
     "data": {
      "text/plain": [
       "array([0, 1, 1, ..., 0, 1, 1], dtype=int64)"
      ]
     },
     "execution_count": 19,
     "metadata": {},
     "output_type": "execute_result"
    }
   ],
   "source": [
    "y_train"
   ]
  },
  {
   "cell_type": "markdown",
   "metadata": {},
   "source": [
    "### Decision Tree Classifier"
   ]
  },
  {
   "cell_type": "code",
   "execution_count": 20,
   "metadata": {},
   "outputs": [],
   "source": [
    "from sklearn.tree import DecisionTreeClassifier"
   ]
  },
  {
   "cell_type": "code",
   "execution_count": 21,
   "metadata": {},
   "outputs": [],
   "source": [
    "# Create Decision Tree classifer object\n",
    "dtc = DecisionTreeClassifier()\n",
    "\n",
    "# Train Decision Tree Classifer\n",
    "dtc = dtc.fit(X_train,y_train)"
   ]
  },
  {
   "cell_type": "code",
   "execution_count": 22,
   "metadata": {},
   "outputs": [
    {
     "name": "stdout",
     "output_type": "stream",
     "text": [
      "Accuracy: 0.8258734685940234\n",
      "Evaluación calidad Modelo\n",
      "    MAE 0.1741\n",
      "    RMSE 0.4173\n",
      "    R2 0.1901\n"
     ]
    }
   ],
   "source": [
    "# Create Decision Tree classifer object\n",
    "dtc = DecisionTreeClassifier(criterion=\"entropy\", max_depth=3)\n",
    "\n",
    "# Train Decision Tree Classifer\n",
    "dtc = dtc.fit(X_train,y_train)\n",
    "\n",
    "#Predict the response for test dataset\n",
    "y_pred_dtc = dtc.predict(X_test)\n",
    "\n",
    "# Model Accuracy, how often is the classifier correct?\n",
    "print(\"Accuracy:\",metrics.accuracy_score(y_test, y_pred_dtc))\n",
    "\n",
    "print('Evaluación calidad Modelo')\n",
    "\n",
    "predictions_dtc = dtc.predict(X_test)\n",
    "mae_dtc = round(mean_absolute_error(y_test, predictions_dtc), 4)\n",
    "rmse_dtc = round(sqrt(mean_squared_error(y_test, predictions_dtc)), 4)\n",
    "r2_dtc = round(r2_score(y_test, predictions_dtc), 4)\n",
    "\n",
    "print(\"    MAE\", round(mean_absolute_error(y_test, predictions_dtc), 4))\n",
    "print(\"    RMSE\", round(sqrt(mean_squared_error(y_test, predictions_dtc)), 4))\n",
    "print(\"    R2\", round(r2_score(y_test, predictions_dtc), 4))\n"
   ]
  },
  {
   "cell_type": "code",
   "execution_count": 23,
   "metadata": {},
   "outputs": [
    {
     "name": "stdout",
     "output_type": "stream",
     "text": [
      "Evaluación calidad Modelo\n",
      "---------------------------\n",
      "---------------------------\n",
      "Confusion Matrix\n",
      "---------------------------\n",
      "---------------------------\n",
      "[[16726  2581]\n",
      " [ 8164 34237]]\n",
      "---------------------------\n",
      "---------------------------\n",
      "Classif Report\n",
      "---------------------------\n",
      "---------------------------\n",
      "              precision    recall  f1-score   support\n",
      "\n",
      "           0       0.67      0.87      0.76     19307\n",
      "           1       0.93      0.81      0.86     42401\n",
      "\n",
      "    accuracy                           0.83     61708\n",
      "   macro avg       0.80      0.84      0.81     61708\n",
      "weighted avg       0.85      0.83      0.83     61708\n",
      "\n"
     ]
    }
   ],
   "source": [
    "print('Evaluación calidad Modelo')\n",
    "print('---------------------------')\n",
    "print('---------------------------')\n",
    "print('Confusion Matrix')\n",
    "print('---------------------------')\n",
    "print('---------------------------')\n",
    "print(confusion_matrix(y_test, predictions_dtc))\n",
    "print('---------------------------')\n",
    "print('---------------------------')\n",
    "print('Classif Report')\n",
    "print('---------------------------')\n",
    "print('---------------------------')\n",
    "print(classification_report(y_test, predictions_dtc))"
   ]
  },
  {
   "cell_type": "markdown",
   "metadata": {},
   "source": [
    "### Modelo Random Forest (with 10 trees)\n"
   ]
  },
  {
   "cell_type": "code",
   "execution_count": 24,
   "metadata": {},
   "outputs": [
    {
     "data": {
      "text/plain": [
       "RandomForestClassifier(n_estimators=10, random_state=32)"
      ]
     },
     "execution_count": 24,
     "metadata": {},
     "output_type": "execute_result"
    }
   ],
   "source": [
    "# RandomForestClassifier with 10 trees and fitted on the small feature set \n",
    "rfc = RandomForestClassifier(n_estimators = 10, random_state=32) \n",
    "rfc.fit(X_train, y_train)"
   ]
  },
  {
   "cell_type": "code",
   "execution_count": 25,
   "metadata": {},
   "outputs": [],
   "source": [
    "# Create Decision Tree classifer object\n",
    "rfc = DecisionTreeClassifier(criterion=\"entropy\", max_depth=3)\n",
    "\n",
    "# Train Decision Tree Classifer\n",
    "rfc = rfc.fit(X_train,y_train)\n",
    "\n",
    "#Predict the response for test dataset\n",
    "y_pred_rfc = rfc.predict(X_test)\n"
   ]
  },
  {
   "cell_type": "code",
   "execution_count": 26,
   "metadata": {},
   "outputs": [
    {
     "name": "stdout",
     "output_type": "stream",
     "text": [
      "Evaluación calidad Modelo\n",
      "---------------------------\n",
      "---------------------------\n",
      "Confusion Matrix\n",
      "---------------------------\n",
      "---------------------------\n",
      "[[16726  2581]\n",
      " [ 8164 34237]]\n",
      "---------------------------\n",
      "---------------------------\n",
      "Classif Report\n",
      "---------------------------\n",
      "---------------------------\n",
      "              precision    recall  f1-score   support\n",
      "\n",
      "           0       0.67      0.87      0.76     19307\n",
      "           1       0.93      0.81      0.86     42401\n",
      "\n",
      "    accuracy                           0.83     61708\n",
      "   macro avg       0.80      0.84      0.81     61708\n",
      "weighted avg       0.85      0.83      0.83     61708\n",
      "\n"
     ]
    }
   ],
   "source": [
    "print('Evaluación calidad Modelo')\n",
    "print('---------------------------')\n",
    "print('---------------------------')\n",
    "print('Confusion Matrix')\n",
    "print('---------------------------')\n",
    "print('---------------------------')\n",
    "print(confusion_matrix(y_test, y_pred_rfc))\n",
    "print('---------------------------')\n",
    "print('---------------------------')\n",
    "print('Classif Report')\n",
    "print('---------------------------')\n",
    "print('---------------------------')\n",
    "print(classification_report(y_test, y_pred_rfc))"
   ]
  },
  {
   "cell_type": "markdown",
   "metadata": {},
   "source": [
    "### Modelo de Regresión Logística"
   ]
  },
  {
   "cell_type": "code",
   "execution_count": 27,
   "metadata": {},
   "outputs": [],
   "source": [
    "# instantiate the model (using the default parameters)\n",
    "logreg = LogisticRegression()\n",
    "\n",
    "# fit the model with data\n",
    "logreg.fit(X_train,y_train)\n",
    "\n",
    "y_lg_pred=logreg.predict(X_test)"
   ]
  },
  {
   "cell_type": "code",
   "execution_count": 28,
   "metadata": {},
   "outputs": [
    {
     "name": "stdout",
     "output_type": "stream",
     "text": [
      "Evaluación calidad Modelo\n",
      "---------------------------\n",
      "---------------------------\n",
      "Confusion Matrix\n",
      "---------------------------\n",
      "---------------------------\n",
      "[[15026  4281]\n",
      " [ 4331 38070]]\n",
      "---------------------------\n",
      "---------------------------\n",
      "Classif Report\n",
      "---------------------------\n",
      "---------------------------\n",
      "              precision    recall  f1-score   support\n",
      "\n",
      "           0       0.78      0.78      0.78     19307\n",
      "           1       0.90      0.90      0.90     42401\n",
      "\n",
      "    accuracy                           0.86     61708\n",
      "   macro avg       0.84      0.84      0.84     61708\n",
      "weighted avg       0.86      0.86      0.86     61708\n",
      "\n"
     ]
    }
   ],
   "source": [
    "print('Evaluación calidad Modelo')\n",
    "print('---------------------------')\n",
    "print('---------------------------')\n",
    "print('Confusion Matrix')\n",
    "print('---------------------------')\n",
    "print('---------------------------')\n",
    "print(confusion_matrix(y_test, y_lg_pred))\n",
    "print('---------------------------')\n",
    "print('---------------------------')\n",
    "print('Classif Report')\n",
    "print('---------------------------')\n",
    "print('---------------------------')\n",
    "print(classification_report(y_test, y_lg_pred))"
   ]
  },
  {
   "cell_type": "markdown",
   "metadata": {},
   "source": [
    "### K Nearest Neighbors Classifier"
   ]
  },
  {
   "cell_type": "code",
   "execution_count": 29,
   "metadata": {},
   "outputs": [],
   "source": [
    "from sklearn.neighbors import KNeighborsClassifier\n",
    "kneighbors = KNeighborsClassifier(n_neighbors=5)\n",
    "kneighbors.fit(X_train, y_train)\n",
    "y_knc_pred=logreg.predict(X_test)"
   ]
  },
  {
   "cell_type": "code",
   "execution_count": 30,
   "metadata": {},
   "outputs": [
    {
     "name": "stdout",
     "output_type": "stream",
     "text": [
      "Evaluación calidad Modelo\n",
      "---------------------------\n",
      "---------------------------\n",
      "Confusion Matrix\n",
      "---------------------------\n",
      "---------------------------\n",
      "[[15026  4281]\n",
      " [ 4331 38070]]\n",
      "---------------------------\n",
      "---------------------------\n",
      "Classif Report\n",
      "---------------------------\n",
      "---------------------------\n",
      "              precision    recall  f1-score   support\n",
      "\n",
      "           0       0.78      0.78      0.78     19307\n",
      "           1       0.90      0.90      0.90     42401\n",
      "\n",
      "    accuracy                           0.86     61708\n",
      "   macro avg       0.84      0.84      0.84     61708\n",
      "weighted avg       0.86      0.86      0.86     61708\n",
      "\n"
     ]
    }
   ],
   "source": [
    "print('Evaluación calidad Modelo')\n",
    "print('---------------------------')\n",
    "print('---------------------------')\n",
    "print('Confusion Matrix')\n",
    "print('---------------------------')\n",
    "print('---------------------------')\n",
    "print(confusion_matrix(y_test, y_knc_pred))\n",
    "print('---------------------------')\n",
    "print('---------------------------')\n",
    "print('Classif Report')\n",
    "print('---------------------------')\n",
    "print('---------------------------')\n",
    "print(classification_report(y_test, y_knc_pred))"
   ]
  },
  {
   "cell_type": "markdown",
   "metadata": {},
   "source": [
    "### Support Vector Machines"
   ]
  },
  {
   "cell_type": "code",
   "execution_count": 31,
   "metadata": {},
   "outputs": [],
   "source": [
    "from sklearn import svm"
   ]
  },
  {
   "cell_type": "code",
   "execution_count": 32,
   "metadata": {},
   "outputs": [],
   "source": [
    "#svm = svm.SVC(kernel='linear') # Linear Kernel\n",
    "#svm.fit(X_train, y_train)\n",
    "#y_svm_pred=logreg.predict(X_test)"
   ]
  },
  {
   "cell_type": "markdown",
   "metadata": {},
   "source": [
    "print('Evaluación calidad Modelo')\n",
    "print('---------------------------')\n",
    "print('---------------------------')\n",
    "print('Confusion Matrix')\n",
    "print('---------------------------')\n",
    "print('---------------------------')\n",
    "print(confusion_matrix(y_test, y_svm_pred))\n",
    "print('---------------------------')\n",
    "print('---------------------------')\n",
    "print('Classif Report')\n",
    "print('---------------------------')\n",
    "print('---------------------------')\n",
    "print(classification_report(y_test, y_svm_pred)) "
   ]
  },
  {
   "cell_type": "markdown",
   "metadata": {},
   "source": [
    "### X GBoost"
   ]
  },
  {
   "cell_type": "code",
   "execution_count": 33,
   "metadata": {},
   "outputs": [
    {
     "name": "stderr",
     "output_type": "stream",
     "text": [
      "C:\\Users\\tomi_\\Anaconda3\\lib\\site-packages\\xgboost\\sklearn.py:1146: UserWarning: The use of label encoder in XGBClassifier is deprecated and will be removed in a future release. To remove this warning, do the following: 1) Pass option use_label_encoder=False when constructing XGBClassifier object; and 2) Encode your labels (y) as integers starting with 0, i.e. 0, 1, 2, ..., [num_class - 1].\n",
      "  warnings.warn(label_encoder_deprecation_msg, UserWarning)\n"
     ]
    },
    {
     "name": "stdout",
     "output_type": "stream",
     "text": [
      "[19:19:27] WARNING: C:/Users/Administrator/workspace/xgboost-win64_release_1.4.0/src/learner.cc:1095: Starting in XGBoost 1.3.0, the default evaluation metric used with the objective 'binary:logistic' was changed from 'error' to 'logloss'. Explicitly set eval_metric if you'd like to restore the old behavior.\n"
     ]
    }
   ],
   "source": [
    "from numpy import loadtxt\n",
    "from xgboost import XGBClassifier\n",
    "\n",
    "xgbc = XGBClassifier()\n",
    "xgbc.fit(X_train, y_train)\n",
    "# make predictions for test data\n",
    "y_xgbc_pred = xgbc.predict(X_test)"
   ]
  },
  {
   "cell_type": "code",
   "execution_count": 34,
   "metadata": {},
   "outputs": [
    {
     "name": "stdout",
     "output_type": "stream",
     "text": [
      "Evaluación calidad Modelo\n",
      "---------------------------\n",
      "---------------------------\n",
      "Confusion Matrix\n",
      "---------------------------\n",
      "---------------------------\n",
      "[[15440  3867]\n",
      " [ 4499 37902]]\n",
      "---------------------------\n",
      "---------------------------\n",
      "Classif Report\n",
      "---------------------------\n",
      "---------------------------\n",
      "              precision    recall  f1-score   support\n",
      "\n",
      "           0       0.77      0.80      0.79     19307\n",
      "           1       0.91      0.89      0.90     42401\n",
      "\n",
      "    accuracy                           0.86     61708\n",
      "   macro avg       0.84      0.85      0.84     61708\n",
      "weighted avg       0.87      0.86      0.87     61708\n",
      "\n"
     ]
    }
   ],
   "source": [
    "print('Evaluación calidad Modelo')\n",
    "print('---------------------------')\n",
    "print('---------------------------')\n",
    "print('Confusion Matrix')\n",
    "print('---------------------------')\n",
    "print('---------------------------')\n",
    "print(confusion_matrix(y_test, y_xgbc_pred))\n",
    "print('---------------------------')\n",
    "print('---------------------------')\n",
    "print('Classif Report')\n",
    "print('---------------------------')\n",
    "print('---------------------------')\n",
    "print(classification_report(y_test, y_xgbc_pred))"
   ]
  },
  {
   "cell_type": "markdown",
   "metadata": {},
   "source": [
    "# EJERCICIO 2 Comparación de Modelos"
   ]
  },
  {
   "cell_type": "code",
   "execution_count": 35,
   "metadata": {},
   "outputs": [],
   "source": [
    "models = []\n",
    "\n",
    "def classification_Models(X_train, X_test, y_train, y_test ):\n",
    "    \n",
    "\n",
    "    \n",
    "    models.append( ('LR',  LogisticRegression()) )\n",
    "    models.append( ('DTC', DecisionTreeClassifier()) )\n",
    "    models.append( ('KNN', KNeighborsClassifier(n_neighbors=5)) )\n",
    " #   models.append( ('NB',  GaussianNB()) )\n",
    " #   models.append( ('LDA',  LinearDiscriminantAnalysis()) )\n",
    " #   models.append( ('SVM',  SVC()) )\n",
    "    models.append( ('XGBC', XGBClassifier()))\n",
    "    models.append( ('RFC', RandomForestClassifier(n_estimators = 10, random_state=32)))\n",
    "\n",
    "        \n",
    "classification_Models(X_train, X_test, y_train, y_test)"
   ]
  },
  {
   "cell_type": "code",
   "execution_count": 36,
   "metadata": {},
   "outputs": [
    {
     "name": "stdout",
     "output_type": "stream",
     "text": [
      "\n",
      "****************************LR\n",
      "The accuracy: 0.8604394892072341\n",
      "The Classification Report:\n",
      "               precision    recall  f1-score   support\n",
      "\n",
      "           0       0.78      0.78      0.78     19307\n",
      "           1       0.90      0.90      0.90     42401\n",
      "\n",
      "    accuracy                           0.86     61708\n",
      "   macro avg       0.84      0.84      0.84     61708\n",
      "weighted avg       0.86      0.86      0.86     61708\n",
      "\n",
      "The Confusion Matrix:\n",
      " [[15026  4281]\n",
      " [ 4331 38070]]\n",
      "\n",
      "****************************DTC\n",
      "The accuracy: 0.8067997666428988\n",
      "The Classification Report:\n",
      "               precision    recall  f1-score   support\n",
      "\n",
      "           0       0.69      0.70      0.69     19307\n",
      "           1       0.86      0.86      0.86     42401\n",
      "\n",
      "    accuracy                           0.81     61708\n",
      "   macro avg       0.78      0.78      0.78     61708\n",
      "weighted avg       0.81      0.81      0.81     61708\n",
      "\n",
      "The Confusion Matrix:\n",
      " [[13512  5795]\n",
      " [ 6127 36274]]\n",
      "\n",
      "****************************KNN\n",
      "The accuracy: 0.8412847604848642\n",
      "The Classification Report:\n",
      "               precision    recall  f1-score   support\n",
      "\n",
      "           0       0.74      0.76      0.75     19307\n",
      "           1       0.89      0.88      0.88     42401\n",
      "\n",
      "    accuracy                           0.84     61708\n",
      "   macro avg       0.81      0.82      0.82     61708\n",
      "weighted avg       0.84      0.84      0.84     61708\n",
      "\n",
      "The Confusion Matrix:\n",
      " [[14598  4709]\n",
      " [ 5085 37316]]\n"
     ]
    },
    {
     "name": "stderr",
     "output_type": "stream",
     "text": [
      "C:\\Users\\tomi_\\Anaconda3\\lib\\site-packages\\xgboost\\sklearn.py:1146: UserWarning: The use of label encoder in XGBClassifier is deprecated and will be removed in a future release. To remove this warning, do the following: 1) Pass option use_label_encoder=False when constructing XGBClassifier object; and 2) Encode your labels (y) as integers starting with 0, i.e. 0, 1, 2, ..., [num_class - 1].\n",
      "  warnings.warn(label_encoder_deprecation_msg, UserWarning)\n"
     ]
    },
    {
     "name": "stdout",
     "output_type": "stream",
     "text": [
      "[19:19:44] WARNING: C:/Users/Administrator/workspace/xgboost-win64_release_1.4.0/src/learner.cc:1095: Starting in XGBoost 1.3.0, the default evaluation metric used with the objective 'binary:logistic' was changed from 'error' to 'logloss'. Explicitly set eval_metric if you'd like to restore the old behavior.\n",
      "\n",
      "****************************XGBC\n",
      "The accuracy: 0.8644260063524989\n",
      "The Classification Report:\n",
      "               precision    recall  f1-score   support\n",
      "\n",
      "           0       0.77      0.80      0.79     19307\n",
      "           1       0.91      0.89      0.90     42401\n",
      "\n",
      "    accuracy                           0.86     61708\n",
      "   macro avg       0.84      0.85      0.84     61708\n",
      "weighted avg       0.87      0.86      0.87     61708\n",
      "\n",
      "The Confusion Matrix:\n",
      " [[15440  3867]\n",
      " [ 4499 37902]]\n",
      "\n",
      "****************************RFC\n",
      "The accuracy: 0.8412847604848642\n",
      "The Classification Report:\n",
      "               precision    recall  f1-score   support\n",
      "\n",
      "           0       0.73      0.78      0.76     19307\n",
      "           1       0.90      0.87      0.88     42401\n",
      "\n",
      "    accuracy                           0.84     61708\n",
      "   macro avg       0.81      0.83      0.82     61708\n",
      "weighted avg       0.85      0.84      0.84     61708\n",
      "\n",
      "The Confusion Matrix:\n",
      " [[15141  4166]\n",
      " [ 5628 36773]]\n"
     ]
    }
   ],
   "source": [
    "from sklearn.metrics import accuracy_score\n",
    "\n",
    "for name,model in models:\n",
    "    trainedmodel = model.fit(X_train,y_train)\n",
    "    \n",
    "    # prediction\n",
    "    ypredict = trainedmodel.predict(X_test)\n",
    "    \n",
    "    acc = accuracy_score(y_test,ypredict)\n",
    "    classreport = classification_report(y_test,ypredict)\n",
    "    confMat = confusion_matrix(y_test,ypredict)\n",
    "    \n",
    "    print('\\n****************************'+name)\n",
    "    print('The accuracy: {}'.format(acc))\n",
    "    print('The Classification Report:\\n {}'.format(classreport))\n",
    "    print('The Confusion Matrix:\\n {}'.format(confMat))\n",
    "    \n",
    "    \n",
    "    # save models\n",
    "    import pickle as pk\n",
    "    \n",
    "    with open('model_'+name+'.pickle','wb') as f:\n",
    "        pk.dump(trainedmodel,f)"
   ]
  },
  {
   "cell_type": "markdown",
   "metadata": {},
   "source": [
    "### <font color='red'> Los modelos de Regresión Lineal y Ridge sobresalen como aquellos con mayor capacidad de predicción de ArrDelay </font> "
   ]
  },
  {
   "cell_type": "markdown",
   "metadata": {},
   "source": [
    "# EJERCICIO 3"
   ]
  },
  {
   "cell_type": "markdown",
   "metadata": {},
   "source": [
    "## Cambio de parámetros en modelos"
   ]
  },
  {
   "cell_type": "markdown",
   "metadata": {},
   "source": [
    "### Decision Tree Classifier"
   ]
  },
  {
   "cell_type": "code",
   "execution_count": 37,
   "metadata": {
    "scrolled": true
   },
   "outputs": [
    {
     "name": "stdout",
     "output_type": "stream",
     "text": [
      "   Max_depth  Accuracy\n",
      "0          1  0.790254\n",
      "1          5  0.854525\n",
      "2         10  0.858349\n",
      "3         15  0.844769\n",
      "4         20  0.826036\n"
     ]
    },
    {
     "data": {
      "text/plain": [
       "<matplotlib.axes._subplots.AxesSubplot at 0x1f5ae10ed48>"
      ]
     },
     "execution_count": 37,
     "metadata": {},
     "output_type": "execute_result"
    },
    {
     "data": {
      "image/png": "[encoded data removed]",
      "text/plain": [
       "<Figure size 720x720 with 1 Axes>"
      ]
     },
     "metadata": {
      "needs_background": "light"
     },
     "output_type": "display_data"
    }
   ],
   "source": [
    "max_depth_param_range = [1,5,10,15,20]\n",
    "\n",
    "dtc_acc_table = pd.DataFrame(columns = ['Max_depth','Accuracy'])\n",
    "dtc_acc_table['Max_depth'] = max_depth_param_range\n",
    "\n",
    "plt.figure(figsize=(10, 10))\n",
    "\n",
    "j = 0\n",
    "for i in max_depth_param_range:\n",
    "    \n",
    "    # Apply logistic regression model to training data\n",
    "    dtc = DecisionTreeClassifier(max_depth=i)\n",
    "    dtc.fit(X_train,y_train)\n",
    "    \n",
    "    # Predict using model\n",
    "    y_pred_dtc = dtc.predict(X_test)\n",
    "    \n",
    "    # Saving accuracy score in table\n",
    "    dtc_acc_table.iloc[j,1] = accuracy_score(y_test,y_pred_dtc)\n",
    "    j += 1\n",
    "    \n",
    "print(dtc_acc_table)    \n",
    "dtc_acc_table.Accuracy.plot()"
   ]
  },
  {
   "cell_type": "markdown",
   "metadata": {},
   "source": [
    "\n",
    "### <font color='red'> --> Mientras más alto sea Max_depth, más alta será la precisión y más simplificado será el modelo. Desde max_depth, la precisión comienza a caer. </font> "
   ]
  },
  {
   "cell_type": "markdown",
   "metadata": {},
   "source": [
    "### Logistic Regression"
   ]
  },
  {
   "cell_type": "code",
   "execution_count": 38,
   "metadata": {},
   "outputs": [
    {
     "name": "stdout",
     "output_type": "stream",
     "text": [
      "   C_parameter  Accuracy\n",
      "0        0.001  0.852337\n",
      "1        0.010  0.859127\n",
      "2        0.100  0.860196\n",
      "3        1.000  0.860439\n",
      "4       10.000  0.860488\n",
      "5      100.000  0.860504\n"
     ]
    },
    {
     "data": {
      "text/plain": [
       "Text(0, 0.5, 'Accuracy values')"
      ]
     },
     "execution_count": 38,
     "metadata": {},
     "output_type": "execute_result"
    },
    {
     "data": {
      "image/png": "[encoded data removed]",
      "text/plain": [
       "<Figure size 720x720 with 1 Axes>"
      ]
     },
     "metadata": {
      "needs_background": "light"
     },
     "output_type": "display_data"
    }
   ],
   "source": [
    "C_param_range = [0.001,0.01,0.1,1,10,100]\n",
    "\n",
    "lr_acc_table = pd.DataFrame(columns = ['C_parameter','Accuracy'])\n",
    "lr_acc_table['C_parameter'] = C_param_range\n",
    "\n",
    "plt.figure(figsize=(10, 10))\n",
    "\n",
    "j = 0\n",
    "for i in C_param_range:\n",
    "    \n",
    "    # Apply logistic regression model to training data\n",
    "    lr = LogisticRegression(penalty = 'l2', C = i,random_state = 0)\n",
    "    lr.fit(X_train,y_train)\n",
    "    \n",
    "    # Predict using model\n",
    "    y_pred_lr = lr.predict(X_test)\n",
    "    \n",
    "    # Saving accuracy score in table\n",
    "    lr_acc_table.iloc[j,1] = accuracy_score(y_test,y_pred_lr)\n",
    "    j += 1\n",
    "    \n",
    "print(lr_acc_table)    \n",
    "lr_acc_table.Accuracy.plot()\n",
    "plt.xlabel('C values')\n",
    "plt.ylabel('Accuracy values')"
   ]
  },
  {
   "cell_type": "markdown",
   "metadata": {},
   "source": [
    "\n",
    "### <font color='red'> --> Mientras más alto sea C (o Lambda), más alta será la precisión y más simplificado será el modelo.. </font> "
   ]
  },
  {
   "cell_type": "markdown",
   "metadata": {},
   "source": [
    "### Random Forest Classifier"
   ]
  },
  {
   "cell_type": "code",
   "execution_count": 39,
   "metadata": {},
   "outputs": [
    {
     "name": "stdout",
     "output_type": "stream",
     "text": [
      "DecisionTreeClassifier 0.8346230108592825\n",
      "DecisionTreeClassifier 0.8507555814649774\n",
      "DecisionTreeClassifier 0.8537981609680361\n",
      "DecisionTreeClassifier 0.8210306738488854\n",
      "DecisionTreeClassifier 0.8066320990283894\n",
      "DecisionTreeClassifier 0.8057043327315551\n",
      "DecisionTreeClassifier 0.8056476139588598\n"
     ]
    }
   ],
   "source": [
    "# Build some models and check them against training data using MAE, RMSE and R2\n",
    "\n",
    "modeloutcomes = []\n",
    "modelnames = []\n",
    "\n",
    "models = [DecisionTreeClassifier(random_state=32, max_depth=3), DecisionTreeClassifier(random_state=32, max_depth=5), DecisionTreeClassifier(random_state=32, max_depth=10), DecisionTreeClassifier(random_state=32, max_depth=20), DecisionTreeClassifier(random_state=32, max_depth=30), DecisionTreeClassifier(random_state=32, max_depth=40), DecisionTreeClassifier(random_state=32, max_depth=50)]\n",
    "for model in models:\n",
    "    v_results = cross_val_score(model, X_train, y_train, cv = 3, \n",
    "                                     scoring='accuracy', n_jobs = -1, verbose = 0)\n",
    "    print(type(model).__name__,v_results.mean())\n",
    "    modeloutcomes.append(v_results)\n",
    "    modelnames.append(name)\n",
    "   "
   ]
  },
  {
   "cell_type": "code",
   "execution_count": 40,
   "metadata": {},
   "outputs": [
    {
     "name": "stdout",
     "output_type": "stream",
     "text": [
      "   max_depth  Accuracy\n",
      "0          1  0.790254\n",
      "1          3   0.83537\n",
      "2          5  0.854525\n",
      "3         10  0.858317\n",
      "4         15  0.844866\n",
      "5         20  0.826862\n"
     ]
    },
    {
     "data": {
      "text/plain": [
       "<matplotlib.axes._subplots.AxesSubplot at 0x1f5cd8599c8>"
      ]
     },
     "execution_count": 40,
     "metadata": {},
     "output_type": "execute_result"
    },
    {
     "data": {
      "image/png": "[encoded data removed]",
      "text/plain": [
       "<Figure size 720x720 with 1 Axes>"
      ]
     },
     "metadata": {
      "needs_background": "light"
     },
     "output_type": "display_data"
    }
   ],
   "source": [
    "max_depth = [1,3,5,10,15,20]\n",
    "\n",
    "dtc_acc_table = pd.DataFrame(columns = ['max_depth','Accuracy'])\n",
    "dtc_acc_table['max_depth'] = max_depth\n",
    "\n",
    "plt.figure(figsize=(10, 10))\n",
    "\n",
    "j = 0\n",
    "for i in max_depth:\n",
    "    \n",
    "    # Apply logistic regression model to training data\n",
    "    dtc = DecisionTreeClassifier(max_depth = i, random_state = 32)\n",
    "    dtc.fit(X_train,y_train)\n",
    "    \n",
    "    # Predict using model\n",
    "    y_pred_dtc = dtc.predict(X_test)\n",
    "    \n",
    "    # Saving accuracy score in table\n",
    "    dtc_acc_table.iloc[j,1] = accuracy_score(y_test,y_pred_dtc)\n",
    "    j += 1\n",
    "    \n",
    "print(dtc_acc_table)    \n",
    "dtc_acc_table.Accuracy.plot()"
   ]
  },
  {
   "cell_type": "markdown",
   "metadata": {},
   "source": [
    "\n",
    "### <font color='red'> --> Mientras más alto el max_depth, mejor la performance. Desde Max_depth = 10, la calidad empieza a empeorar. </font> "
   ]
  },
  {
   "cell_type": "markdown",
   "metadata": {},
   "source": [
    "### K Neighbors Classifier"
   ]
  },
  {
   "cell_type": "code",
   "execution_count": 41,
   "metadata": {},
   "outputs": [
    {
     "name": "stdout",
     "output_type": "stream",
     "text": [
      "   N_neighbors  Accuracy\n",
      "0            1   0.80915\n",
      "1            5  0.841285\n",
      "2           10  0.847929\n",
      "3           15  0.853552\n",
      "4           20  0.854427\n"
     ]
    },
    {
     "data": {
      "text/plain": [
       "<matplotlib.axes._subplots.AxesSubplot at 0x1f5cd8af6c8>"
      ]
     },
     "execution_count": 41,
     "metadata": {},
     "output_type": "execute_result"
    },
    {
     "data": {
      "image/png": "[encoded data removed]",
      "text/plain": [
       "<Figure size 720x720 with 1 Axes>"
      ]
     },
     "metadata": {
      "needs_background": "light"
     },
     "output_type": "display_data"
    }
   ],
   "source": [
    "N_neighbors = [1,5,10,15,20]\n",
    "\n",
    "knc_acc_table = pd.DataFrame(columns = ['N_neighbors','Accuracy'])\n",
    "knc_acc_table['N_neighbors'] = N_neighbors\n",
    "\n",
    "plt.figure(figsize=(10, 10))\n",
    "\n",
    "j = 0\n",
    "for i in N_neighbors:\n",
    "    \n",
    "    # Apply logistic regression model to training data\n",
    "    knc = KNeighborsClassifier(n_neighbors=i)\n",
    "    knc.fit(X_train,y_train)\n",
    "    \n",
    "    # Predict using model\n",
    "    y_pred_knc = knc.predict(X_test)\n",
    "    \n",
    "    # Saving accuracy score in table\n",
    "    knc_acc_table.iloc[j,1] = accuracy_score(y_test,y_pred_knc)\n",
    "    j += 1\n",
    "    \n",
    "print(knc_acc_table)    \n",
    "knc_acc_table.Accuracy.plot()"
   ]
  },
  {
   "cell_type": "markdown",
   "metadata": {},
   "source": [
    "\n",
    "### <font color='red'> --> Mientras más alto n_neighbors, mejor la performance. </font> "
   ]
  },
  {
   "cell_type": "markdown",
   "metadata": {},
   "source": [
    "# EJERCICIO 4: Comparación de rendimiento usando Cross Validation"
   ]
  },
  {
   "cell_type": "code",
   "execution_count": 43,
   "metadata": {},
   "outputs": [],
   "source": [
    "models = []\n",
    "\n",
    "def classification_Models(X_train, X_test, y_train, y_test ):\n",
    "    \n",
    "\n",
    "    \n",
    "    models.append( ('LR',  LogisticRegression()) )\n",
    "    models.append( ('DTC', DecisionTreeClassifier()) )\n",
    "    models.append( ('KNN', KNeighborsClassifier(n_neighbors=5)) )\n",
    " #   models.append( ('NB',  GaussianNB()) )\n",
    " #   models.append( ('LDA',  LinearDiscriminantAnalysis()) )\n",
    " #   models.append( ('SVM',  SVC()) )\n",
    "    models.append( ('XGBC', XGBClassifier()))\n",
    "    models.append( ('RFC', RandomForestClassifier(n_estimators = 10, random_state=32)))\n",
    "\n",
    "        \n",
    "classification_Models(X_train, X_test, y_train, y_test)"
   ]
  },
  {
   "cell_type": "code",
   "execution_count": 44,
   "metadata": {},
   "outputs": [
    {
     "name": "stdout",
     "output_type": "stream",
     "text": [
      "LR 0.8574808591366666\n",
      "DTC 0.80541263581344\n",
      "KNN 0.8406798175697604\n",
      "XGBC 0.860952886600357\n",
      "RFC 0.8397480097169151\n"
     ]
    }
   ],
   "source": [
    "modeloutcomes = []\n",
    "modelnames = []\n",
    "for name,model in models:\n",
    "        v_results = cross_val_score(model, X_train, y_train, cv = 3, \n",
    "                                     scoring='accuracy', n_jobs = -1, verbose = 0)\n",
    "        print(name,v_results.mean())\n",
    "        modeloutcomes.append(v_results)\n",
    "        modelnames.append(name)\n"
   ]
  },
  {
   "cell_type": "code",
   "execution_count": 45,
   "metadata": {},
   "outputs": [
    {
     "name": "stdout",
     "output_type": "stream",
     "text": [
      "[array([0.85733559, 0.85716543, 0.85794156]), array([0.80372401, 0.80620343, 0.80631047]), array([0.84005251, 0.84193639, 0.84005056]), array([0.86055641, 0.86034979, 0.86195245]), array([0.83801062, 0.84024697, 0.84098644])]\n"
     ]
    },
    {
     "data": {
      "text/plain": [
       "{'whiskers': [<matplotlib.lines.Line2D at 0x1f5ce175708>,\n",
       "  <matplotlib.lines.Line2D at 0x1f5ce175c88>,\n",
       "  <matplotlib.lines.Line2D at 0x1f5ce17cd08>,\n",
       "  <matplotlib.lines.Line2D at 0x1f5ce16de88>,\n",
       "  <matplotlib.lines.Line2D at 0x1f5ce2c2d48>,\n",
       "  <matplotlib.lines.Line2D at 0x1f5ce2c8288>,\n",
       "  <matplotlib.lines.Line2D at 0x1f5ce2cfcc8>,\n",
       "  <matplotlib.lines.Line2D at 0x1f5ce2cfe08>,\n",
       "  <matplotlib.lines.Line2D at 0x1f5ce2dfd08>,\n",
       "  <matplotlib.lines.Line2D at 0x1f5ce2c2cc8>],\n",
       " 'caps': [<matplotlib.lines.Line2D at 0x1f5ce175c08>,\n",
       "  <matplotlib.lines.Line2D at 0x1f5ce175dc8>,\n",
       "  <matplotlib.lines.Line2D at 0x1f5ce2b4c48>,\n",
       "  <matplotlib.lines.Line2D at 0x1f5ce2b4e08>,\n",
       "  <matplotlib.lines.Line2D at 0x1f5ce2c2e88>,\n",
       "  <matplotlib.lines.Line2D at 0x1f5ce2c8d48>,\n",
       "  <matplotlib.lines.Line2D at 0x1f5ce2cfe88>,\n",
       "  <matplotlib.lines.Line2D at 0x1f5ce2d83c8>,\n",
       "  <matplotlib.lines.Line2D at 0x1f5ce2e6288>,\n",
       "  <matplotlib.lines.Line2D at 0x1f5ce2c8c48>],\n",
       " 'boxes': [<matplotlib.lines.Line2D at 0x1f5ce171ec8>,\n",
       "  <matplotlib.lines.Line2D at 0x1f5ce17cfc8>,\n",
       "  <matplotlib.lines.Line2D at 0x1f5ce17cb88>,\n",
       "  <matplotlib.lines.Line2D at 0x1f5ce2c2308>,\n",
       "  <matplotlib.lines.Line2D at 0x1f5ce2df8c8>],\n",
       " 'medians': [<matplotlib.lines.Line2D at 0x1f5ce16d188>,\n",
       "  <matplotlib.lines.Line2D at 0x1f5ce2b9cc8>,\n",
       "  <matplotlib.lines.Line2D at 0x1f5ce2c8d08>,\n",
       "  <matplotlib.lines.Line2D at 0x1f5ce2d8b48>,\n",
       "  <matplotlib.lines.Line2D at 0x1f5ce2e6748>],\n",
       " 'fliers': [<matplotlib.lines.Line2D at 0x1f5ce165548>,\n",
       "  <matplotlib.lines.Line2D at 0x1f5ce2b9c48>,\n",
       "  <matplotlib.lines.Line2D at 0x1f5ce2c8f08>,\n",
       "  <matplotlib.lines.Line2D at 0x1f5ce2d8848>,\n",
       "  <matplotlib.lines.Line2D at 0x1f5ce2f0888>],\n",
       " 'means': []}"
      ]
     },
     "execution_count": 45,
     "metadata": {},
     "output_type": "execute_result"
    },
    {
     "data": {
      "image/png": "[encoded data removed]",
      "text/plain": [
       "<Figure size 432x288 with 1 Axes>"
      ]
     },
     "metadata": {
      "needs_background": "light"
     },
     "output_type": "display_data"
    }
   ],
   "source": [
    "print(modeloutcomes)\n",
    "fig = plt.figure()\n",
    "ax = fig.add_subplot(111)\n",
    "ax.set_xticklabels(modelnames)\n",
    "plt.boxplot(modeloutcomes)"
   ]
  },
  {
   "cell_type": "markdown",
   "metadata": {},
   "source": [
    "# EJERCICIO 5: Ingeniería de variables"
   ]
  },
  {
   "cell_type": "markdown",
   "metadata": {},
   "source": [
    "### A) Inclusión de variable \"ArrDelay_vs_CRSElapsedTime\" (creada en Tasca anterior). Esta variable expresa la cantidad de minutos demorados respecto a la duración estimada de viaje"
   ]
  },
  {
   "cell_type": "code",
   "execution_count": 46,
   "metadata": {},
   "outputs": [],
   "source": [
    "columns_to_drop_a = ['FullCarrier', 'Origin', 'Dest', 'Delay_level', 'ArrTime_Range', 'DepTime_Range', 'Unnamed: 0', 'index', 'Cancelled', 'ArrDelay', 'CRSElapsedTime', 'ArrTime', 'DepTime', '10%_Delayed']"
   ]
  },
  {
   "cell_type": "code",
   "execution_count": 47,
   "metadata": {},
   "outputs": [],
   "source": [
    "X_train_a = train.drop(columns = columns_to_drop_a, axis=1).values\n",
    "y_train_a = train['10%_Delayed'].values"
   ]
  },
  {
   "cell_type": "code",
   "execution_count": 48,
   "metadata": {},
   "outputs": [
    {
     "data": {
      "text/plain": [
       "array([[ 1.        , -0.47094575, -0.29567999, -0.25464905,  0.2464258 ,\n",
       "        -0.56736541],\n",
       "       [ 7.        ,  0.29888444,  0.36021072,  0.17761403, -0.05803349,\n",
       "        -0.15007458],\n",
       "       [ 4.        , -0.50849844, -0.29567999, -0.49866854, -0.69353809,\n",
       "        -0.09454158],\n",
       "       ...,\n",
       "       [ 3.        , -0.56482748, -0.92242   , -0.81589386, -0.01008016,\n",
       "        -0.4975525 ],\n",
       "       [ 5.        ,  7.26490888,  0.87034794,  1.46394531,  1.73484966,\n",
       "         2.06648548],\n",
       "       [ 3.        ,  0.41154252, -0.68921441, -0.59104734,  0.21659037,\n",
       "        -0.09771489]])"
      ]
     },
     "execution_count": 48,
     "metadata": {},
     "output_type": "execute_result"
    }
   ],
   "source": [
    "X_train_a"
   ]
  },
  {
   "cell_type": "code",
   "execution_count": 49,
   "metadata": {},
   "outputs": [],
   "source": [
    "X_test_a = test.drop(columns = columns_to_drop_a, axis=1).values\n",
    "y_test_a = test['10%_Delayed'].values"
   ]
  },
  {
   "cell_type": "code",
   "execution_count": 50,
   "metadata": {},
   "outputs": [
    {
     "data": {
      "text/plain": [
       "array([[ 5.        , -0.35828768,  1.38048515,  2.38424736,  2.29837504,\n",
       "        -0.70223127],\n",
       "       [ 3.        ,  7.1898035 , -0.64548836, -0.86818375, -1.44464269,\n",
       "         8.14179576],\n",
       "       [ 1.        , -0.05786614,  2.167554  ,  2.65441179,  1.35033688,\n",
       "        -0.46264604],\n",
       "       ...,\n",
       "       [ 7.        ,  1.46301791, -0.73294046, -0.67645416, -0.06916023,\n",
       "         2.36001705],\n",
       "       [ 2.        , -0.67748556, -0.82039255, -0.70957109,  0.1581011 ,\n",
       "        -0.61337847],\n",
       "       [ 4.        ,  0.50542425,  0.50596421,  0.39548857,  0.18901967,\n",
       "        -0.02790198]])"
      ]
     },
     "execution_count": 50,
     "metadata": {},
     "output_type": "execute_result"
    }
   ],
   "source": [
    "X_test_a"
   ]
  },
  {
   "cell_type": "code",
   "execution_count": 51,
   "metadata": {},
   "outputs": [
    {
     "data": {
      "text/html": [
       "<div>\n",
       "<style scoped>\n",
       "    .dataframe tbody tr th:only-of-type {\n",
       "        vertical-align: middle;\n",
       "    }\n",
       "\n",
       "    .dataframe tbody tr th {\n",
       "        vertical-align: top;\n",
       "    }\n",
       "\n",
       "    .dataframe thead th {\n",
       "        text-align: right;\n",
       "    }\n",
       "</style>\n",
       "<table border=\"1\" class=\"dataframe\">\n",
       "  <thead>\n",
       "    <tr style=\"text-align: right;\">\n",
       "      <th></th>\n",
       "      <th>DayOfWeek</th>\n",
       "      <th>DepDelay</th>\n",
       "      <th>AirTime</th>\n",
       "      <th>Distance</th>\n",
       "      <th>AvgSpeed</th>\n",
       "      <th>ArrDelay_vs_CRSElapsedTime</th>\n",
       "    </tr>\n",
       "  </thead>\n",
       "  <tbody>\n",
       "    <tr>\n",
       "      <td>433956</td>\n",
       "      <td>1</td>\n",
       "      <td>-0.470946</td>\n",
       "      <td>-0.295680</td>\n",
       "      <td>-0.254649</td>\n",
       "      <td>0.246426</td>\n",
       "      <td>-0.567365</td>\n",
       "    </tr>\n",
       "    <tr>\n",
       "      <td>1178304</td>\n",
       "      <td>7</td>\n",
       "      <td>0.298884</td>\n",
       "      <td>0.360211</td>\n",
       "      <td>0.177614</td>\n",
       "      <td>-0.058033</td>\n",
       "      <td>-0.150075</td>\n",
       "    </tr>\n",
       "    <tr>\n",
       "      <td>1331798</td>\n",
       "      <td>4</td>\n",
       "      <td>-0.508498</td>\n",
       "      <td>-0.295680</td>\n",
       "      <td>-0.498669</td>\n",
       "      <td>-0.693538</td>\n",
       "      <td>-0.094542</td>\n",
       "    </tr>\n",
       "    <tr>\n",
       "      <td>1473141</td>\n",
       "      <td>4</td>\n",
       "      <td>-0.639933</td>\n",
       "      <td>-0.936995</td>\n",
       "      <td>-0.930932</td>\n",
       "      <td>-0.807661</td>\n",
       "      <td>-0.700645</td>\n",
       "    </tr>\n",
       "    <tr>\n",
       "      <td>1221532</td>\n",
       "      <td>5</td>\n",
       "      <td>-0.320735</td>\n",
       "      <td>2.808869</td>\n",
       "      <td>2.851370</td>\n",
       "      <td>0.803255</td>\n",
       "      <td>-0.446779</td>\n",
       "    </tr>\n",
       "  </tbody>\n",
       "</table>\n",
       "</div>"
      ],
      "text/plain": [
       "         DayOfWeek  DepDelay   AirTime  Distance  AvgSpeed  \\\n",
       "433956           1 -0.470946 -0.295680 -0.254649  0.246426   \n",
       "1178304          7  0.298884  0.360211  0.177614 -0.058033   \n",
       "1331798          4 -0.508498 -0.295680 -0.498669 -0.693538   \n",
       "1473141          4 -0.639933 -0.936995 -0.930932 -0.807661   \n",
       "1221532          5 -0.320735  2.808869  2.851370  0.803255   \n",
       "\n",
       "         ArrDelay_vs_CRSElapsedTime  \n",
       "433956                    -0.567365  \n",
       "1178304                   -0.150075  \n",
       "1331798                   -0.094542  \n",
       "1473141                   -0.700645  \n",
       "1221532                   -0.446779  "
      ]
     },
     "execution_count": 51,
     "metadata": {},
     "output_type": "execute_result"
    }
   ],
   "source": [
    "train.drop(columns=columns_to_drop_a, axis=1).head()"
   ]
  },
  {
   "cell_type": "code",
   "execution_count": 52,
   "metadata": {},
   "outputs": [
    {
     "data": {
      "text/plain": [
       "array([0, 1, 1, ..., 0, 1, 1], dtype=int64)"
      ]
     },
     "execution_count": 52,
     "metadata": {},
     "output_type": "execute_result"
    }
   ],
   "source": [
    "y_train_a"
   ]
  },
  {
   "cell_type": "code",
   "execution_count": 53,
   "metadata": {},
   "outputs": [
    {
     "data": {
      "text/plain": [
       "[('LR', LogisticRegression()),\n",
       " ('DTC', DecisionTreeClassifier()),\n",
       " ('KNN', KNeighborsClassifier()),\n",
       " ('XGBC', XGBClassifier(base_score=None, booster=None, colsample_bylevel=None,\n",
       "                colsample_bynode=None, colsample_bytree=None, gamma=None,\n",
       "                gpu_id=None, importance_type='gain', interaction_constraints=None,\n",
       "                learning_rate=None, max_delta_step=None, max_depth=None,\n",
       "                min_child_weight=None, missing=nan, monotone_constraints=None,\n",
       "                n_estimators=100, n_jobs=None, num_parallel_tree=None,\n",
       "                random_state=None, reg_alpha=None, reg_lambda=None,\n",
       "                scale_pos_weight=None, subsample=None, tree_method=None,\n",
       "                validate_parameters=None, verbosity=None)),\n",
       " ('RFC', RandomForestClassifier(n_estimators=10, random_state=32))]"
      ]
     },
     "execution_count": 53,
     "metadata": {},
     "output_type": "execute_result"
    }
   ],
   "source": [
    "models"
   ]
  },
  {
   "cell_type": "markdown",
   "metadata": {},
   "source": [
    "### Evaluación del nuevo modelo"
   ]
  },
  {
   "cell_type": "code",
   "execution_count": 54,
   "metadata": {},
   "outputs": [
    {
     "name": "stdout",
     "output_type": "stream",
     "text": [
      "LR 0.9973828143450999\n",
      "DTC 0.9997852773491919\n",
      "KNN 0.9627962579596049\n",
      "XGBC 0.9998419965158153\n",
      "RFC 0.9998541505807425\n"
     ]
    }
   ],
   "source": [
    "modeloutcomes_a = []\n",
    "modelnames_a = []\n",
    "for name, model in models:\n",
    "        v_results_a = cross_val_score(model, X_train_a, y_train_a, cv = 3, \n",
    "                                     scoring='accuracy', n_jobs = -1, verbose = 0)\n",
    "        print(name,v_results_a.mean())\n",
    "        modeloutcomes_a.append(v_results_a)\n",
    "        modelnames_a.append(name)"
   ]
  },
  {
   "cell_type": "markdown",
   "metadata": {},
   "source": [
    "## B) Inclusión de variables categóricas ArrTime, DepTime y ArrDelay "
   ]
  },
  {
   "cell_type": "markdown",
   "metadata": {},
   "source": [
    "### Transformación de Rangos a variables Ordinales"
   ]
  },
  {
   "cell_type": "code",
   "execution_count": 55,
   "metadata": {},
   "outputs": [],
   "source": [
    "le = preprocessing.LabelEncoder()"
   ]
  },
  {
   "cell_type": "code",
   "execution_count": 56,
   "metadata": {},
   "outputs": [],
   "source": [
    "columns_to_encode = ['ArrTime_Range', 'DepTime_Range', 'Delay_level']"
   ]
  },
  {
   "cell_type": "code",
   "execution_count": 57,
   "metadata": {},
   "outputs": [
    {
     "name": "stderr",
     "output_type": "stream",
     "text": [
      "C:\\Users\\tomi_\\Anaconda3\\lib\\site-packages\\pandas\\core\\frame.py:3494: SettingWithCopyWarning: \n",
      "A value is trying to be set on a copy of a slice from a DataFrame.\n",
      "Try using .loc[row_indexer,col_indexer] = value instead\n",
      "\n",
      "See the caveats in the documentation: http://pandas.pydata.org/pandas-docs/stable/user_guide/indexing.html#returning-a-view-versus-a-copy\n",
      "  self[k1] = value[k2]\n"
     ]
    }
   ],
   "source": [
    "train[columns_to_encode] = train[columns_to_encode].apply(le.fit_transform)"
   ]
  },
  {
   "cell_type": "code",
   "execution_count": 58,
   "metadata": {},
   "outputs": [],
   "source": [
    "test[columns_to_encode] = test[columns_to_encode].apply(le.fit_transform)"
   ]
  },
  {
   "cell_type": "markdown",
   "metadata": {},
   "source": [
    "### Definiciòn de variables de nuevo modelo incluyendo ArrTime_Rabge, DepTime_Range, Delay_level"
   ]
  },
  {
   "cell_type": "code",
   "execution_count": 59,
   "metadata": {},
   "outputs": [],
   "source": [
    "columns_to_drop_b = ['FullCarrier', 'Origin', 'Dest', 'Unnamed: 0', 'index', 'Cancelled', 'ArrDelay', 'CRSElapsedTime', 'ArrTime', 'DepTime', '10%_Delayed']"
   ]
  },
  {
   "cell_type": "code",
   "execution_count": 60,
   "metadata": {},
   "outputs": [
    {
     "data": {
      "text/html": [
       "<div>\n",
       "<style scoped>\n",
       "    .dataframe tbody tr th:only-of-type {\n",
       "        vertical-align: middle;\n",
       "    }\n",
       "\n",
       "    .dataframe tbody tr th {\n",
       "        vertical-align: top;\n",
       "    }\n",
       "\n",
       "    .dataframe thead th {\n",
       "        text-align: right;\n",
       "    }\n",
       "</style>\n",
       "<table border=\"1\" class=\"dataframe\">\n",
       "  <thead>\n",
       "    <tr style=\"text-align: right;\">\n",
       "      <th></th>\n",
       "      <th>DayOfWeek</th>\n",
       "      <th>DepDelay</th>\n",
       "      <th>AirTime</th>\n",
       "      <th>Distance</th>\n",
       "      <th>AvgSpeed</th>\n",
       "      <th>ArrDelay_vs_CRSElapsedTime</th>\n",
       "      <th>Delay_level</th>\n",
       "      <th>ArrTime_Range</th>\n",
       "      <th>DepTime_Range</th>\n",
       "    </tr>\n",
       "  </thead>\n",
       "  <tbody>\n",
       "    <tr>\n",
       "      <td>433956</td>\n",
       "      <td>1</td>\n",
       "      <td>-0.470946</td>\n",
       "      <td>-0.295680</td>\n",
       "      <td>-0.254649</td>\n",
       "      <td>0.246426</td>\n",
       "      <td>-0.567365</td>\n",
       "      <td>3</td>\n",
       "      <td>15</td>\n",
       "      <td>13</td>\n",
       "    </tr>\n",
       "    <tr>\n",
       "      <td>1178304</td>\n",
       "      <td>7</td>\n",
       "      <td>0.298884</td>\n",
       "      <td>0.360211</td>\n",
       "      <td>0.177614</td>\n",
       "      <td>-0.058033</td>\n",
       "      <td>-0.150075</td>\n",
       "      <td>1</td>\n",
       "      <td>11</td>\n",
       "      <td>10</td>\n",
       "    </tr>\n",
       "    <tr>\n",
       "      <td>1331798</td>\n",
       "      <td>4</td>\n",
       "      <td>-0.508498</td>\n",
       "      <td>-0.295680</td>\n",
       "      <td>-0.498669</td>\n",
       "      <td>-0.693538</td>\n",
       "      <td>-0.094542</td>\n",
       "      <td>1</td>\n",
       "      <td>2</td>\n",
       "      <td>1</td>\n",
       "    </tr>\n",
       "    <tr>\n",
       "      <td>1473141</td>\n",
       "      <td>4</td>\n",
       "      <td>-0.639933</td>\n",
       "      <td>-0.936995</td>\n",
       "      <td>-0.930932</td>\n",
       "      <td>-0.807661</td>\n",
       "      <td>-0.700645</td>\n",
       "      <td>3</td>\n",
       "      <td>9</td>\n",
       "      <td>8</td>\n",
       "    </tr>\n",
       "    <tr>\n",
       "      <td>1221532</td>\n",
       "      <td>5</td>\n",
       "      <td>-0.320735</td>\n",
       "      <td>2.808869</td>\n",
       "      <td>2.851370</td>\n",
       "      <td>0.803255</td>\n",
       "      <td>-0.446779</td>\n",
       "      <td>0</td>\n",
       "      <td>5</td>\n",
       "      <td>2</td>\n",
       "    </tr>\n",
       "  </tbody>\n",
       "</table>\n",
       "</div>"
      ],
      "text/plain": [
       "         DayOfWeek  DepDelay   AirTime  Distance  AvgSpeed  \\\n",
       "433956           1 -0.470946 -0.295680 -0.254649  0.246426   \n",
       "1178304          7  0.298884  0.360211  0.177614 -0.058033   \n",
       "1331798          4 -0.508498 -0.295680 -0.498669 -0.693538   \n",
       "1473141          4 -0.639933 -0.936995 -0.930932 -0.807661   \n",
       "1221532          5 -0.320735  2.808869  2.851370  0.803255   \n",
       "\n",
       "         ArrDelay_vs_CRSElapsedTime  Delay_level  ArrTime_Range  DepTime_Range  \n",
       "433956                    -0.567365            3             15             13  \n",
       "1178304                   -0.150075            1             11             10  \n",
       "1331798                   -0.094542            1              2              1  \n",
       "1473141                   -0.700645            3              9              8  \n",
       "1221532                   -0.446779            0              5              2  "
      ]
     },
     "execution_count": 60,
     "metadata": {},
     "output_type": "execute_result"
    }
   ],
   "source": [
    "train.drop(columns = columns_to_drop_b, axis=1).head()"
   ]
  },
  {
   "cell_type": "code",
   "execution_count": 61,
   "metadata": {},
   "outputs": [],
   "source": [
    "X_train_b = train.drop(columns = columns_to_drop_b, axis=1).values\n",
    "y_train_b = train['10%_Delayed'].values"
   ]
  },
  {
   "cell_type": "code",
   "execution_count": 62,
   "metadata": {},
   "outputs": [
    {
     "data": {
      "text/plain": [
       "array([[ 1.        , -0.47094575, -0.29567999, ...,  3.        ,\n",
       "        15.        , 13.        ],\n",
       "       [ 7.        ,  0.29888444,  0.36021072, ...,  1.        ,\n",
       "        11.        , 10.        ],\n",
       "       [ 4.        , -0.50849844, -0.29567999, ...,  1.        ,\n",
       "         2.        ,  1.        ],\n",
       "       ...,\n",
       "       [ 3.        , -0.56482748, -0.92242   , ...,  3.        ,\n",
       "         6.        ,  5.        ],\n",
       "       [ 5.        ,  7.26490888,  0.87034794, ...,  2.        ,\n",
       "         0.        , 14.        ],\n",
       "       [ 3.        ,  0.41154252, -0.68921441, ...,  1.        ,\n",
       "         0.        , 17.        ]])"
      ]
     },
     "execution_count": 62,
     "metadata": {},
     "output_type": "execute_result"
    }
   ],
   "source": [
    "X_train_b"
   ]
  },
  {
   "cell_type": "code",
   "execution_count": 63,
   "metadata": {},
   "outputs": [],
   "source": [
    "X_test_b = test.drop(columns = columns_to_drop_b, axis=1).values\n",
    "y_test_b = test['10%_Delayed'].values"
   ]
  },
  {
   "cell_type": "code",
   "execution_count": 64,
   "metadata": {},
   "outputs": [
    {
     "data": {
      "text/plain": [
       "array([[ 5.        , -0.35828768,  1.38048515, ...,  3.        ,\n",
       "         1.        ,  0.        ],\n",
       "       [ 3.        ,  7.1898035 , -0.64548836, ...,  2.        ,\n",
       "         0.        , 18.        ],\n",
       "       [ 1.        , -0.05786614,  2.167554  , ...,  0.        ,\n",
       "         1.        , 18.        ],\n",
       "       ...,\n",
       "       [ 7.        ,  1.46301791, -0.73294046, ...,  2.        ,\n",
       "        12.        , 10.        ],\n",
       "       [ 2.        , -0.67748556, -0.82039255, ...,  3.        ,\n",
       "         4.        ,  3.        ],\n",
       "       [ 4.        ,  0.50542425,  0.50596421, ...,  1.        ,\n",
       "        11.        ,  8.        ]])"
      ]
     },
     "execution_count": 64,
     "metadata": {},
     "output_type": "execute_result"
    }
   ],
   "source": [
    "X_test_b"
   ]
  },
  {
   "cell_type": "code",
   "execution_count": 65,
   "metadata": {},
   "outputs": [
    {
     "data": {
      "text/html": [
       "<div>\n",
       "<style scoped>\n",
       "    .dataframe tbody tr th:only-of-type {\n",
       "        vertical-align: middle;\n",
       "    }\n",
       "\n",
       "    .dataframe tbody tr th {\n",
       "        vertical-align: top;\n",
       "    }\n",
       "\n",
       "    .dataframe thead th {\n",
       "        text-align: right;\n",
       "    }\n",
       "</style>\n",
       "<table border=\"1\" class=\"dataframe\">\n",
       "  <thead>\n",
       "    <tr style=\"text-align: right;\">\n",
       "      <th></th>\n",
       "      <th>DayOfWeek</th>\n",
       "      <th>DepDelay</th>\n",
       "      <th>AirTime</th>\n",
       "      <th>Distance</th>\n",
       "      <th>AvgSpeed</th>\n",
       "      <th>ArrDelay_vs_CRSElapsedTime</th>\n",
       "      <th>Delay_level</th>\n",
       "      <th>ArrTime_Range</th>\n",
       "      <th>DepTime_Range</th>\n",
       "    </tr>\n",
       "  </thead>\n",
       "  <tbody>\n",
       "    <tr>\n",
       "      <td>433956</td>\n",
       "      <td>1</td>\n",
       "      <td>-0.470946</td>\n",
       "      <td>-0.295680</td>\n",
       "      <td>-0.254649</td>\n",
       "      <td>0.246426</td>\n",
       "      <td>-0.567365</td>\n",
       "      <td>3</td>\n",
       "      <td>15</td>\n",
       "      <td>13</td>\n",
       "    </tr>\n",
       "    <tr>\n",
       "      <td>1178304</td>\n",
       "      <td>7</td>\n",
       "      <td>0.298884</td>\n",
       "      <td>0.360211</td>\n",
       "      <td>0.177614</td>\n",
       "      <td>-0.058033</td>\n",
       "      <td>-0.150075</td>\n",
       "      <td>1</td>\n",
       "      <td>11</td>\n",
       "      <td>10</td>\n",
       "    </tr>\n",
       "    <tr>\n",
       "      <td>1331798</td>\n",
       "      <td>4</td>\n",
       "      <td>-0.508498</td>\n",
       "      <td>-0.295680</td>\n",
       "      <td>-0.498669</td>\n",
       "      <td>-0.693538</td>\n",
       "      <td>-0.094542</td>\n",
       "      <td>1</td>\n",
       "      <td>2</td>\n",
       "      <td>1</td>\n",
       "    </tr>\n",
       "    <tr>\n",
       "      <td>1473141</td>\n",
       "      <td>4</td>\n",
       "      <td>-0.639933</td>\n",
       "      <td>-0.936995</td>\n",
       "      <td>-0.930932</td>\n",
       "      <td>-0.807661</td>\n",
       "      <td>-0.700645</td>\n",
       "      <td>3</td>\n",
       "      <td>9</td>\n",
       "      <td>8</td>\n",
       "    </tr>\n",
       "    <tr>\n",
       "      <td>1221532</td>\n",
       "      <td>5</td>\n",
       "      <td>-0.320735</td>\n",
       "      <td>2.808869</td>\n",
       "      <td>2.851370</td>\n",
       "      <td>0.803255</td>\n",
       "      <td>-0.446779</td>\n",
       "      <td>0</td>\n",
       "      <td>5</td>\n",
       "      <td>2</td>\n",
       "    </tr>\n",
       "  </tbody>\n",
       "</table>\n",
       "</div>"
      ],
      "text/plain": [
       "         DayOfWeek  DepDelay   AirTime  Distance  AvgSpeed  \\\n",
       "433956           1 -0.470946 -0.295680 -0.254649  0.246426   \n",
       "1178304          7  0.298884  0.360211  0.177614 -0.058033   \n",
       "1331798          4 -0.508498 -0.295680 -0.498669 -0.693538   \n",
       "1473141          4 -0.639933 -0.936995 -0.930932 -0.807661   \n",
       "1221532          5 -0.320735  2.808869  2.851370  0.803255   \n",
       "\n",
       "         ArrDelay_vs_CRSElapsedTime  Delay_level  ArrTime_Range  DepTime_Range  \n",
       "433956                    -0.567365            3             15             13  \n",
       "1178304                   -0.150075            1             11             10  \n",
       "1331798                   -0.094542            1              2              1  \n",
       "1473141                   -0.700645            3              9              8  \n",
       "1221532                   -0.446779            0              5              2  "
      ]
     },
     "execution_count": 65,
     "metadata": {},
     "output_type": "execute_result"
    }
   ],
   "source": [
    "train.drop(columns=columns_to_drop_b, axis=1).head()"
   ]
  },
  {
   "cell_type": "code",
   "execution_count": 66,
   "metadata": {},
   "outputs": [
    {
     "data": {
      "text/plain": [
       "array([0, 1, 1, ..., 0, 1, 1], dtype=int64)"
      ]
     },
     "execution_count": 66,
     "metadata": {},
     "output_type": "execute_result"
    }
   ],
   "source": [
    "y_train_b"
   ]
  },
  {
   "cell_type": "markdown",
   "metadata": {},
   "source": [
    "### Evaluación del nuevo modelo"
   ]
  },
  {
   "cell_type": "code",
   "execution_count": 67,
   "metadata": {},
   "outputs": [
    {
     "name": "stdout",
     "output_type": "stream",
     "text": [
      "LR 0.9998703560498862\n",
      "DTC 0.9998055341240702\n",
      "KNN 0.9997164040191593\n",
      "XGBC 0.9998379451608397\n",
      "RFC 0.999870355951404\n"
     ]
    }
   ],
   "source": [
    "modeloutcomes_b = []\n",
    "modelnames_b = []\n",
    "for name, model in models:\n",
    "        v_results_b = cross_val_score(model, X_train_b, y_train_b, cv = 3, \n",
    "                                     scoring='accuracy', n_jobs = -1, verbose = 0)\n",
    "        print(name,v_results_b.mean())\n",
    "        modeloutcomes_b.append(v_results_b)\n",
    "        modelnames_a.append(name)"
   ]
  },
  {
   "cell_type": "markdown",
   "metadata": {},
   "source": [
    "## C) Inclusión de variables FullCarrier, Origin & Dest"
   ]
  },
  {
   "cell_type": "markdown",
   "metadata": {},
   "source": [
    "### Conversión de variables Dummy"
   ]
  },
  {
   "cell_type": "markdown",
   "metadata": {},
   "source": [
    "En caso de efectuar el Train Test Split antes de la conversión de variables Dummy, está sucediendo que algunas de los valores de las variables categóricas no son incluidos en el TEST set, de manera que al realizar la conversión a Dummies, la cantidad de variables totales entre TRAIN y TEST set termina por ser diferente e imposibilita la evaluación del modelo."
   ]
  },
  {
   "cell_type": "markdown",
   "metadata": {},
   "source": [
    "\n",
    "--> Realizo conversión a Dummy y luego divido por TRAIN y TEST"
   ]
  },
  {
   "cell_type": "markdown",
   "metadata": {},
   "source": [
    "### Inclusión de DUMMY variables en DATASET copiado"
   ]
  },
  {
   "cell_type": "code",
   "execution_count": 68,
   "metadata": {},
   "outputs": [],
   "source": [
    "data3 = train.copy()"
   ]
  },
  {
   "cell_type": "code",
   "execution_count": 69,
   "metadata": {},
   "outputs": [],
   "source": [
    "le = preprocessing.LabelEncoder()\n",
    "\n",
    "columns_to_encode = ['ArrTime_Range', 'DepTime_Range', 'Delay_level']\n",
    "\n",
    "data3[columns_to_encode] = data3[columns_to_encode].apply(le.fit_transform)\n"
   ]
  },
  {
   "cell_type": "code",
   "execution_count": 70,
   "metadata": {},
   "outputs": [],
   "source": [
    "data3 = pd.get_dummies(data=data3, columns=['FullCarrier', 'Origin', 'Dest'])"
   ]
  },
  {
   "cell_type": "code",
   "execution_count": 71,
   "metadata": {},
   "outputs": [
    {
     "data": {
      "text/html": [
       "<div>\n",
       "<style scoped>\n",
       "    .dataframe tbody tr th:only-of-type {\n",
       "        vertical-align: middle;\n",
       "    }\n",
       "\n",
       "    .dataframe tbody tr th {\n",
       "        vertical-align: top;\n",
       "    }\n",
       "\n",
       "    .dataframe thead th {\n",
       "        text-align: right;\n",
       "    }\n",
       "</style>\n",
       "<table border=\"1\" class=\"dataframe\">\n",
       "  <thead>\n",
       "    <tr style=\"text-align: right;\">\n",
       "      <th></th>\n",
       "      <th>Unnamed: 0</th>\n",
       "      <th>index</th>\n",
       "      <th>DayOfWeek</th>\n",
       "      <th>Cancelled</th>\n",
       "      <th>ArrDelay</th>\n",
       "      <th>CRSElapsedTime</th>\n",
       "      <th>DepDelay</th>\n",
       "      <th>ArrTime</th>\n",
       "      <th>DepTime</th>\n",
       "      <th>AirTime</th>\n",
       "      <th>...</th>\n",
       "      <th>Dest_TYR</th>\n",
       "      <th>Dest_TYS</th>\n",
       "      <th>Dest_VLD</th>\n",
       "      <th>Dest_VPS</th>\n",
       "      <th>Dest_WRG</th>\n",
       "      <th>Dest_WYS</th>\n",
       "      <th>Dest_XNA</th>\n",
       "      <th>Dest_YAK</th>\n",
       "      <th>Dest_YKM</th>\n",
       "      <th>Dest_YUM</th>\n",
       "    </tr>\n",
       "  </thead>\n",
       "  <tbody>\n",
       "    <tr>\n",
       "      <td>433956</td>\n",
       "      <td>433957</td>\n",
       "      <td>1370696</td>\n",
       "      <td>1</td>\n",
       "      <td>0</td>\n",
       "      <td>-0.654889</td>\n",
       "      <td>-0.269780</td>\n",
       "      <td>-0.470946</td>\n",
       "      <td>20:08</td>\n",
       "      <td>18:26</td>\n",
       "      <td>-0.295680</td>\n",
       "      <td>...</td>\n",
       "      <td>0</td>\n",
       "      <td>0</td>\n",
       "      <td>0</td>\n",
       "      <td>0</td>\n",
       "      <td>0</td>\n",
       "      <td>0</td>\n",
       "      <td>0</td>\n",
       "      <td>0</td>\n",
       "      <td>0</td>\n",
       "      <td>0</td>\n",
       "    </tr>\n",
       "    <tr>\n",
       "      <td>1178304</td>\n",
       "      <td>1178309</td>\n",
       "      <td>610718</td>\n",
       "      <td>7</td>\n",
       "      <td>0</td>\n",
       "      <td>0.172920</td>\n",
       "      <td>0.502599</td>\n",
       "      <td>0.298884</td>\n",
       "      <td>16:52</td>\n",
       "      <td>15:09</td>\n",
       "      <td>0.360211</td>\n",
       "      <td>...</td>\n",
       "      <td>0</td>\n",
       "      <td>0</td>\n",
       "      <td>0</td>\n",
       "      <td>0</td>\n",
       "      <td>0</td>\n",
       "      <td>0</td>\n",
       "      <td>0</td>\n",
       "      <td>0</td>\n",
       "      <td>0</td>\n",
       "      <td>0</td>\n",
       "    </tr>\n",
       "    <tr>\n",
       "      <td>1331798</td>\n",
       "      <td>1331804</td>\n",
       "      <td>836451</td>\n",
       "      <td>4</td>\n",
       "      <td>0</td>\n",
       "      <td>-0.232178</td>\n",
       "      <td>-0.691077</td>\n",
       "      <td>-0.508498</td>\n",
       "      <td>07:54</td>\n",
       "      <td>06:16</td>\n",
       "      <td>-0.295680</td>\n",
       "      <td>...</td>\n",
       "      <td>0</td>\n",
       "      <td>0</td>\n",
       "      <td>0</td>\n",
       "      <td>0</td>\n",
       "      <td>0</td>\n",
       "      <td>0</td>\n",
       "      <td>0</td>\n",
       "      <td>0</td>\n",
       "      <td>0</td>\n",
       "      <td>0</td>\n",
       "    </tr>\n",
       "    <tr>\n",
       "      <td>1473141</td>\n",
       "      <td>1473147</td>\n",
       "      <td>957758</td>\n",
       "      <td>4</td>\n",
       "      <td>0</td>\n",
       "      <td>-0.795793</td>\n",
       "      <td>-0.859596</td>\n",
       "      <td>-0.639933</td>\n",
       "      <td>14:42</td>\n",
       "      <td>13:41</td>\n",
       "      <td>-0.936995</td>\n",
       "      <td>...</td>\n",
       "      <td>0</td>\n",
       "      <td>0</td>\n",
       "      <td>0</td>\n",
       "      <td>0</td>\n",
       "      <td>0</td>\n",
       "      <td>0</td>\n",
       "      <td>0</td>\n",
       "      <td>0</td>\n",
       "      <td>0</td>\n",
       "      <td>0</td>\n",
       "    </tr>\n",
       "    <tr>\n",
       "      <td>1221532</td>\n",
       "      <td>1221538</td>\n",
       "      <td>1184080</td>\n",
       "      <td>5</td>\n",
       "      <td>0</td>\n",
       "      <td>-0.038436</td>\n",
       "      <td>2.847822</td>\n",
       "      <td>-0.320735</td>\n",
       "      <td>10:45</td>\n",
       "      <td>07:54</td>\n",
       "      <td>2.808869</td>\n",
       "      <td>...</td>\n",
       "      <td>0</td>\n",
       "      <td>0</td>\n",
       "      <td>0</td>\n",
       "      <td>0</td>\n",
       "      <td>0</td>\n",
       "      <td>0</td>\n",
       "      <td>0</td>\n",
       "      <td>0</td>\n",
       "      <td>0</td>\n",
       "      <td>0</td>\n",
       "    </tr>\n",
       "  </tbody>\n",
       "</table>\n",
       "<p>5 rows × 632 columns</p>\n",
       "</div>"
      ],
      "text/plain": [
       "         Unnamed: 0    index  DayOfWeek  Cancelled  ArrDelay  CRSElapsedTime  \\\n",
       "433956       433957  1370696          1          0 -0.654889       -0.269780   \n",
       "1178304     1178309   610718          7          0  0.172920        0.502599   \n",
       "1331798     1331804   836451          4          0 -0.232178       -0.691077   \n",
       "1473141     1473147   957758          4          0 -0.795793       -0.859596   \n",
       "1221532     1221538  1184080          5          0 -0.038436        2.847822   \n",
       "\n",
       "         DepDelay ArrTime DepTime   AirTime  ...  Dest_TYR  Dest_TYS  \\\n",
       "433956  -0.470946   20:08   18:26 -0.295680  ...         0         0   \n",
       "1178304  0.298884   16:52   15:09  0.360211  ...         0         0   \n",
       "1331798 -0.508498   07:54   06:16 -0.295680  ...         0         0   \n",
       "1473141 -0.639933   14:42   13:41 -0.936995  ...         0         0   \n",
       "1221532 -0.320735   10:45   07:54  2.808869  ...         0         0   \n",
       "\n",
       "         Dest_VLD  Dest_VPS  Dest_WRG  Dest_WYS  Dest_XNA  Dest_YAK  Dest_YKM  \\\n",
       "433956          0         0         0         0         0         0         0   \n",
       "1178304         0         0         0         0         0         0         0   \n",
       "1331798         0         0         0         0         0         0         0   \n",
       "1473141         0         0         0         0         0         0         0   \n",
       "1221532         0         0         0         0         0         0         0   \n",
       "\n",
       "         Dest_YUM  \n",
       "433956          0  \n",
       "1178304         0  \n",
       "1331798         0  \n",
       "1473141         0  \n",
       "1221532         0  \n",
       "\n",
       "[5 rows x 632 columns]"
      ]
     },
     "execution_count": 71,
     "metadata": {},
     "output_type": "execute_result"
    }
   ],
   "source": [
    "data3.head()"
   ]
  },
  {
   "cell_type": "markdown",
   "metadata": {},
   "source": [
    "### Separación en TRAIN y TEST sets"
   ]
  },
  {
   "cell_type": "code",
   "execution_count": 72,
   "metadata": {},
   "outputs": [],
   "source": [
    "train3, test3 = train_test_split(data3, test_size = 0.2, random_state=42)"
   ]
  },
  {
   "cell_type": "markdown",
   "metadata": {},
   "source": [
    "## Definiciòn de variables de nuevo modelo incluyendo FullCarrier, Origin y Dest"
   ]
  },
  {
   "cell_type": "code",
   "execution_count": 73,
   "metadata": {},
   "outputs": [],
   "source": [
    "columns_to_drop_c = ['Unnamed: 0', 'index', 'Cancelled', 'ArrDelay', 'CRSElapsedTime', 'ArrTime', 'DepTime', '10%_Delayed']"
   ]
  },
  {
   "cell_type": "code",
   "execution_count": 74,
   "metadata": {},
   "outputs": [],
   "source": [
    "X_train_c = train3.drop(columns = columns_to_drop_c, axis=1).values\n",
    "y_train_c = train3['10%_Delayed'].values"
   ]
  },
  {
   "cell_type": "markdown",
   "metadata": {},
   "source": [
    "##### Checking same amount of columns:"
   ]
  },
  {
   "cell_type": "code",
   "execution_count": 75,
   "metadata": {
    "scrolled": true
   },
   "outputs": [
    {
     "name": "stdout",
     "output_type": "stream",
     "text": [
      "12\n",
      "12\n"
     ]
    }
   ],
   "source": [
    "print(len(train.drop(columns = columns_to_drop_c, axis=1).columns))\n",
    "print(len(test.drop(columns = columns_to_drop_c, axis=1).columns))"
   ]
  },
  {
   "cell_type": "code",
   "execution_count": 76,
   "metadata": {},
   "outputs": [],
   "source": [
    "X_test_c = test3.drop(columns = columns_to_drop_c, axis=1).values\n",
    "y_test_c = test3['10%_Delayed'].values"
   ]
  },
  {
   "cell_type": "code",
   "execution_count": 77,
   "metadata": {},
   "outputs": [
    {
     "data": {
      "text/plain": [
       "array([[ 3.        , -0.30195864,  0.19988188, ...,  0.        ,\n",
       "         0.        ,  0.        ],\n",
       "       [ 1.        ,  0.89972752,  0.25818328, ...,  0.        ,\n",
       "         0.        ,  0.        ],\n",
       "       [ 4.        , -0.50849844,  0.75374514, ...,  0.        ,\n",
       "         0.        ,  0.        ],\n",
       "       ...,\n",
       "       [ 7.        ,  0.14867367, -0.42685813, ...,  0.        ,\n",
       "         0.        ,  0.        ],\n",
       "       [ 4.        , -0.15174787, -0.16450185, ...,  0.        ,\n",
       "         0.        ,  0.        ],\n",
       "       [ 7.        , -0.62115652, -0.96614604, ...,  0.        ,\n",
       "         0.        ,  0.        ]])"
      ]
     },
     "execution_count": 77,
     "metadata": {},
     "output_type": "execute_result"
    }
   ],
   "source": [
    "X_test_c"
   ]
  },
  {
   "cell_type": "code",
   "execution_count": 78,
   "metadata": {},
   "outputs": [
    {
     "data": {
      "text/plain": [
       "array([1, 0, 0, ..., 0, 1, 1], dtype=int64)"
      ]
     },
     "execution_count": 78,
     "metadata": {},
     "output_type": "execute_result"
    }
   ],
   "source": [
    "y_train_c"
   ]
  },
  {
   "cell_type": "code",
   "execution_count": 79,
   "metadata": {},
   "outputs": [
    {
     "data": {
      "text/html": [
       "<div>\n",
       "<style scoped>\n",
       "    .dataframe tbody tr th:only-of-type {\n",
       "        vertical-align: middle;\n",
       "    }\n",
       "\n",
       "    .dataframe tbody tr th {\n",
       "        vertical-align: top;\n",
       "    }\n",
       "\n",
       "    .dataframe thead th {\n",
       "        text-align: right;\n",
       "    }\n",
       "</style>\n",
       "<table border=\"1\" class=\"dataframe\">\n",
       "  <thead>\n",
       "    <tr style=\"text-align: right;\">\n",
       "      <th></th>\n",
       "      <th>DayOfWeek</th>\n",
       "      <th>DepDelay</th>\n",
       "      <th>AirTime</th>\n",
       "      <th>Distance</th>\n",
       "      <th>AvgSpeed</th>\n",
       "      <th>ArrDelay_vs_CRSElapsedTime</th>\n",
       "      <th>Delay_level</th>\n",
       "      <th>ArrTime_Range</th>\n",
       "      <th>DepTime_Range</th>\n",
       "      <th>FullCarrier_AirTran Airways Corporation</th>\n",
       "      <th>...</th>\n",
       "      <th>Dest_TYR</th>\n",
       "      <th>Dest_TYS</th>\n",
       "      <th>Dest_VLD</th>\n",
       "      <th>Dest_VPS</th>\n",
       "      <th>Dest_WRG</th>\n",
       "      <th>Dest_WYS</th>\n",
       "      <th>Dest_XNA</th>\n",
       "      <th>Dest_YAK</th>\n",
       "      <th>Dest_YKM</th>\n",
       "      <th>Dest_YUM</th>\n",
       "    </tr>\n",
       "  </thead>\n",
       "  <tbody>\n",
       "    <tr>\n",
       "      <td>1349054</td>\n",
       "      <td>4</td>\n",
       "      <td>0.298884</td>\n",
       "      <td>-0.528886</td>\n",
       "      <td>-0.592790</td>\n",
       "      <td>-0.421967</td>\n",
       "      <td>0.609934</td>\n",
       "      <td>2</td>\n",
       "      <td>14</td>\n",
       "      <td>11</td>\n",
       "      <td>0</td>\n",
       "      <td>...</td>\n",
       "      <td>0</td>\n",
       "      <td>0</td>\n",
       "      <td>0</td>\n",
       "      <td>0</td>\n",
       "      <td>0</td>\n",
       "      <td>0</td>\n",
       "      <td>0</td>\n",
       "      <td>0</td>\n",
       "      <td>0</td>\n",
       "      <td>0</td>\n",
       "    </tr>\n",
       "    <tr>\n",
       "      <td>908608</td>\n",
       "      <td>6</td>\n",
       "      <td>-0.583604</td>\n",
       "      <td>1.293033</td>\n",
       "      <td>1.697507</td>\n",
       "      <td>1.305830</td>\n",
       "      <td>-0.608618</td>\n",
       "      <td>3</td>\n",
       "      <td>7</td>\n",
       "      <td>1</td>\n",
       "      <td>0</td>\n",
       "      <td>...</td>\n",
       "      <td>0</td>\n",
       "      <td>0</td>\n",
       "      <td>0</td>\n",
       "      <td>0</td>\n",
       "      <td>0</td>\n",
       "      <td>0</td>\n",
       "      <td>0</td>\n",
       "      <td>0</td>\n",
       "      <td>0</td>\n",
       "      <td>0</td>\n",
       "    </tr>\n",
       "    <tr>\n",
       "      <td>926273</td>\n",
       "      <td>5</td>\n",
       "      <td>-0.677486</td>\n",
       "      <td>-0.062474</td>\n",
       "      <td>-0.151812</td>\n",
       "      <td>-0.057837</td>\n",
       "      <td>-0.692711</td>\n",
       "      <td>3</td>\n",
       "      <td>11</td>\n",
       "      <td>10</td>\n",
       "      <td>0</td>\n",
       "      <td>...</td>\n",
       "      <td>0</td>\n",
       "      <td>0</td>\n",
       "      <td>0</td>\n",
       "      <td>0</td>\n",
       "      <td>0</td>\n",
       "      <td>0</td>\n",
       "      <td>0</td>\n",
       "      <td>0</td>\n",
       "      <td>0</td>\n",
       "      <td>0</td>\n",
       "    </tr>\n",
       "    <tr>\n",
       "      <td>636981</td>\n",
       "      <td>4</td>\n",
       "      <td>-0.508498</td>\n",
       "      <td>1.876047</td>\n",
       "      <td>2.748534</td>\n",
       "      <td>1.928829</td>\n",
       "      <td>-0.691125</td>\n",
       "      <td>3</td>\n",
       "      <td>14</td>\n",
       "      <td>7</td>\n",
       "      <td>0</td>\n",
       "      <td>...</td>\n",
       "      <td>0</td>\n",
       "      <td>0</td>\n",
       "      <td>0</td>\n",
       "      <td>0</td>\n",
       "      <td>0</td>\n",
       "      <td>0</td>\n",
       "      <td>0</td>\n",
       "      <td>0</td>\n",
       "      <td>0</td>\n",
       "      <td>0</td>\n",
       "    </tr>\n",
       "    <tr>\n",
       "      <td>511971</td>\n",
       "      <td>7</td>\n",
       "      <td>-0.639933</td>\n",
       "      <td>-0.995297</td>\n",
       "      <td>-0.920474</td>\n",
       "      <td>-0.408871</td>\n",
       "      <td>-0.586405</td>\n",
       "      <td>3</td>\n",
       "      <td>12</td>\n",
       "      <td>11</td>\n",
       "      <td>0</td>\n",
       "      <td>...</td>\n",
       "      <td>0</td>\n",
       "      <td>0</td>\n",
       "      <td>0</td>\n",
       "      <td>0</td>\n",
       "      <td>0</td>\n",
       "      <td>0</td>\n",
       "      <td>0</td>\n",
       "      <td>0</td>\n",
       "      <td>0</td>\n",
       "      <td>0</td>\n",
       "    </tr>\n",
       "  </tbody>\n",
       "</table>\n",
       "<p>5 rows × 624 columns</p>\n",
       "</div>"
      ],
      "text/plain": [
       "         DayOfWeek  DepDelay   AirTime  Distance  AvgSpeed  \\\n",
       "1349054          4  0.298884 -0.528886 -0.592790 -0.421967   \n",
       "908608           6 -0.583604  1.293033  1.697507  1.305830   \n",
       "926273           5 -0.677486 -0.062474 -0.151812 -0.057837   \n",
       "636981           4 -0.508498  1.876047  2.748534  1.928829   \n",
       "511971           7 -0.639933 -0.995297 -0.920474 -0.408871   \n",
       "\n",
       "         ArrDelay_vs_CRSElapsedTime  Delay_level  ArrTime_Range  \\\n",
       "1349054                    0.609934            2             14   \n",
       "908608                    -0.608618            3              7   \n",
       "926273                    -0.692711            3             11   \n",
       "636981                    -0.691125            3             14   \n",
       "511971                    -0.586405            3             12   \n",
       "\n",
       "         DepTime_Range  FullCarrier_AirTran Airways Corporation  ...  \\\n",
       "1349054             11                                        0  ...   \n",
       "908608               1                                        0  ...   \n",
       "926273              10                                        0  ...   \n",
       "636981               7                                        0  ...   \n",
       "511971              11                                        0  ...   \n",
       "\n",
       "         Dest_TYR  Dest_TYS  Dest_VLD  Dest_VPS  Dest_WRG  Dest_WYS  Dest_XNA  \\\n",
       "1349054         0         0         0         0         0         0         0   \n",
       "908608          0         0         0         0         0         0         0   \n",
       "926273          0         0         0         0         0         0         0   \n",
       "636981          0         0         0         0         0         0         0   \n",
       "511971          0         0         0         0         0         0         0   \n",
       "\n",
       "         Dest_YAK  Dest_YKM  Dest_YUM  \n",
       "1349054         0         0         0  \n",
       "908608          0         0         0  \n",
       "926273          0         0         0  \n",
       "636981          0         0         0  \n",
       "511971          0         0         0  \n",
       "\n",
       "[5 rows x 624 columns]"
      ]
     },
     "execution_count": 79,
     "metadata": {},
     "output_type": "execute_result"
    }
   ],
   "source": [
    "train3.drop(columns=columns_to_drop_c, axis=1).head()"
   ]
  },
  {
   "cell_type": "code",
   "execution_count": 80,
   "metadata": {},
   "outputs": [
    {
     "data": {
      "text/html": [
       "<div>\n",
       "<style scoped>\n",
       "    .dataframe tbody tr th:only-of-type {\n",
       "        vertical-align: middle;\n",
       "    }\n",
       "\n",
       "    .dataframe tbody tr th {\n",
       "        vertical-align: top;\n",
       "    }\n",
       "\n",
       "    .dataframe thead th {\n",
       "        text-align: right;\n",
       "    }\n",
       "</style>\n",
       "<table border=\"1\" class=\"dataframe\">\n",
       "  <thead>\n",
       "    <tr style=\"text-align: right;\">\n",
       "      <th></th>\n",
       "      <th>DayOfWeek</th>\n",
       "      <th>DepDelay</th>\n",
       "      <th>AirTime</th>\n",
       "      <th>Distance</th>\n",
       "      <th>AvgSpeed</th>\n",
       "      <th>ArrDelay_vs_CRSElapsedTime</th>\n",
       "      <th>Delay_level</th>\n",
       "      <th>ArrTime_Range</th>\n",
       "      <th>DepTime_Range</th>\n",
       "      <th>FullCarrier_AirTran Airways Corporation</th>\n",
       "      <th>...</th>\n",
       "      <th>Dest_TYR</th>\n",
       "      <th>Dest_TYS</th>\n",
       "      <th>Dest_VLD</th>\n",
       "      <th>Dest_VPS</th>\n",
       "      <th>Dest_WRG</th>\n",
       "      <th>Dest_WYS</th>\n",
       "      <th>Dest_XNA</th>\n",
       "      <th>Dest_YAK</th>\n",
       "      <th>Dest_YKM</th>\n",
       "      <th>Dest_YUM</th>\n",
       "    </tr>\n",
       "  </thead>\n",
       "  <tbody>\n",
       "    <tr>\n",
       "      <td>755946</td>\n",
       "      <td>3</td>\n",
       "      <td>-0.301959</td>\n",
       "      <td>0.199882</td>\n",
       "      <td>-0.153555</td>\n",
       "      <td>-0.630913</td>\n",
       "      <td>0.295776</td>\n",
       "      <td>2</td>\n",
       "      <td>17</td>\n",
       "      <td>15</td>\n",
       "      <td>0</td>\n",
       "      <td>...</td>\n",
       "      <td>0</td>\n",
       "      <td>0</td>\n",
       "      <td>0</td>\n",
       "      <td>0</td>\n",
       "      <td>0</td>\n",
       "      <td>0</td>\n",
       "      <td>0</td>\n",
       "      <td>0</td>\n",
       "      <td>0</td>\n",
       "      <td>0</td>\n",
       "    </tr>\n",
       "    <tr>\n",
       "      <td>942031</td>\n",
       "      <td>1</td>\n",
       "      <td>0.899728</td>\n",
       "      <td>0.258183</td>\n",
       "      <td>-0.047232</td>\n",
       "      <td>-0.448947</td>\n",
       "      <td>0.367176</td>\n",
       "      <td>2</td>\n",
       "      <td>13</td>\n",
       "      <td>11</td>\n",
       "      <td>0</td>\n",
       "      <td>...</td>\n",
       "      <td>0</td>\n",
       "      <td>0</td>\n",
       "      <td>0</td>\n",
       "      <td>0</td>\n",
       "      <td>0</td>\n",
       "      <td>0</td>\n",
       "      <td>0</td>\n",
       "      <td>0</td>\n",
       "      <td>0</td>\n",
       "      <td>0</td>\n",
       "    </tr>\n",
       "    <tr>\n",
       "      <td>1443796</td>\n",
       "      <td>4</td>\n",
       "      <td>-0.508498</td>\n",
       "      <td>0.753745</td>\n",
       "      <td>0.543643</td>\n",
       "      <td>0.067512</td>\n",
       "      <td>-0.435673</td>\n",
       "      <td>0</td>\n",
       "      <td>17</td>\n",
       "      <td>14</td>\n",
       "      <td>0</td>\n",
       "      <td>...</td>\n",
       "      <td>0</td>\n",
       "      <td>0</td>\n",
       "      <td>0</td>\n",
       "      <td>0</td>\n",
       "      <td>0</td>\n",
       "      <td>0</td>\n",
       "      <td>0</td>\n",
       "      <td>0</td>\n",
       "      <td>0</td>\n",
       "      <td>0</td>\n",
       "    </tr>\n",
       "    <tr>\n",
       "      <td>523763</td>\n",
       "      <td>7</td>\n",
       "      <td>-0.301959</td>\n",
       "      <td>-0.572612</td>\n",
       "      <td>-0.554444</td>\n",
       "      <td>-0.081961</td>\n",
       "      <td>-0.150075</td>\n",
       "      <td>1</td>\n",
       "      <td>14</td>\n",
       "      <td>13</td>\n",
       "      <td>0</td>\n",
       "      <td>...</td>\n",
       "      <td>0</td>\n",
       "      <td>0</td>\n",
       "      <td>0</td>\n",
       "      <td>0</td>\n",
       "      <td>0</td>\n",
       "      <td>0</td>\n",
       "      <td>0</td>\n",
       "      <td>0</td>\n",
       "      <td>0</td>\n",
       "      <td>0</td>\n",
       "    </tr>\n",
       "    <tr>\n",
       "      <td>731764</td>\n",
       "      <td>7</td>\n",
       "      <td>-0.301959</td>\n",
       "      <td>-0.412283</td>\n",
       "      <td>-0.488211</td>\n",
       "      <td>-0.327636</td>\n",
       "      <td>-0.429326</td>\n",
       "      <td>0</td>\n",
       "      <td>14</td>\n",
       "      <td>12</td>\n",
       "      <td>0</td>\n",
       "      <td>...</td>\n",
       "      <td>0</td>\n",
       "      <td>0</td>\n",
       "      <td>0</td>\n",
       "      <td>0</td>\n",
       "      <td>0</td>\n",
       "      <td>0</td>\n",
       "      <td>0</td>\n",
       "      <td>0</td>\n",
       "      <td>0</td>\n",
       "      <td>0</td>\n",
       "    </tr>\n",
       "  </tbody>\n",
       "</table>\n",
       "<p>5 rows × 624 columns</p>\n",
       "</div>"
      ],
      "text/plain": [
       "         DayOfWeek  DepDelay   AirTime  Distance  AvgSpeed  \\\n",
       "755946           3 -0.301959  0.199882 -0.153555 -0.630913   \n",
       "942031           1  0.899728  0.258183 -0.047232 -0.448947   \n",
       "1443796          4 -0.508498  0.753745  0.543643  0.067512   \n",
       "523763           7 -0.301959 -0.572612 -0.554444 -0.081961   \n",
       "731764           7 -0.301959 -0.412283 -0.488211 -0.327636   \n",
       "\n",
       "         ArrDelay_vs_CRSElapsedTime  Delay_level  ArrTime_Range  \\\n",
       "755946                     0.295776            2             17   \n",
       "942031                     0.367176            2             13   \n",
       "1443796                   -0.435673            0             17   \n",
       "523763                    -0.150075            1             14   \n",
       "731764                    -0.429326            0             14   \n",
       "\n",
       "         DepTime_Range  FullCarrier_AirTran Airways Corporation  ...  \\\n",
       "755946              15                                        0  ...   \n",
       "942031              11                                        0  ...   \n",
       "1443796             14                                        0  ...   \n",
       "523763              13                                        0  ...   \n",
       "731764              12                                        0  ...   \n",
       "\n",
       "         Dest_TYR  Dest_TYS  Dest_VLD  Dest_VPS  Dest_WRG  Dest_WYS  Dest_XNA  \\\n",
       "755946          0         0         0         0         0         0         0   \n",
       "942031          0         0         0         0         0         0         0   \n",
       "1443796         0         0         0         0         0         0         0   \n",
       "523763          0         0         0         0         0         0         0   \n",
       "731764          0         0         0         0         0         0         0   \n",
       "\n",
       "         Dest_YAK  Dest_YKM  Dest_YUM  \n",
       "755946          0         0         0  \n",
       "942031          0         0         0  \n",
       "1443796         0         0         0  \n",
       "523763          0         0         0  \n",
       "731764          0         0         0  \n",
       "\n",
       "[5 rows x 624 columns]"
      ]
     },
     "execution_count": 80,
     "metadata": {},
     "output_type": "execute_result"
    }
   ],
   "source": [
    "test3.drop(columns=columns_to_drop_c, axis=1).head()"
   ]
  },
  {
   "cell_type": "markdown",
   "metadata": {},
   "source": [
    "### Evaluación y comparación de los nuevos modelos"
   ]
  },
  {
   "cell_type": "code",
   "execution_count": 81,
   "metadata": {},
   "outputs": [
    {
     "name": "stdout",
     "output_type": "stream",
     "text": [
      "LR 0.9998683303785514\n",
      "DTC 0.9998075596538333\n",
      "KNN 0.9963740214780364\n",
      "XGBC 0.9998024954908887\n",
      "RFC 0.9998733945414959\n"
     ]
    }
   ],
   "source": [
    "modeloutcomes_c = []\n",
    "modelnames_c = []\n",
    "for name, model in models:\n",
    "        v_results_c = cross_val_score(model, X_train_c, y_train_c, cv = 3, \n",
    "                                     scoring='accuracy', n_jobs = -1, verbose = 0)\n",
    "        print(name,v_results_c.mean())\n",
    "        modeloutcomes_c.append(v_results_c)\n",
    "        modelnames_c.append(name)"
   ]
  },
  {
   "cell_type": "code",
   "execution_count": 82,
   "metadata": {},
   "outputs": [
    {
     "name": "stderr",
     "output_type": "stream",
     "text": [
      "C:\\Users\\tomi_\\Anaconda3\\lib\\site-packages\\sklearn\\linear_model\\_logistic.py:765: ConvergenceWarning: lbfgs failed to converge (status=1):\n",
      "STOP: TOTAL NO. of ITERATIONS REACHED LIMIT.\n",
      "\n",
      "Increase the number of iterations (max_iter) or scale the data as shown in:\n",
      "    https://scikit-learn.org/stable/modules/preprocessing.html\n",
      "Please also refer to the documentation for alternative solver options:\n",
      "    https://scikit-learn.org/stable/modules/linear_model.html#logistic-regression\n",
      "  extra_warning_msg=_LOGISTIC_SOLVER_CONVERGENCE_MSG)\n"
     ]
    },
    {
     "name": "stdout",
     "output_type": "stream",
     "text": [
      "\n",
      "****************************LR\n",
      "The accuracy: 0.9998784588583235\n",
      "The Classification Report:\n",
      "               precision    recall  f1-score   support\n",
      "\n",
      "           0       1.00      1.00      1.00     15666\n",
      "           1       1.00      1.00      1.00     33700\n",
      "\n",
      "    accuracy                           1.00     49366\n",
      "   macro avg       1.00      1.00      1.00     49366\n",
      "weighted avg       1.00      1.00      1.00     49366\n",
      "\n",
      "The Confusion Matrix:\n",
      " [[15666     0]\n",
      " [    6 33694]]\n",
      "\n",
      "****************************DTC\n",
      "The accuracy: 0.9998176882874853\n",
      "The Classification Report:\n",
      "               precision    recall  f1-score   support\n",
      "\n",
      "           0       1.00      1.00      1.00     15666\n",
      "           1       1.00      1.00      1.00     33700\n",
      "\n",
      "    accuracy                           1.00     49366\n",
      "   macro avg       1.00      1.00      1.00     49366\n",
      "weighted avg       1.00      1.00      1.00     49366\n",
      "\n",
      "The Confusion Matrix:\n",
      " [[15659     7]\n",
      " [    2 33698]]\n",
      "\n",
      "****************************KNN\n",
      "The accuracy: 0.9969614714580886\n",
      "The Classification Report:\n",
      "               precision    recall  f1-score   support\n",
      "\n",
      "           0       0.99      1.00      1.00     15666\n",
      "           1       1.00      1.00      1.00     33700\n",
      "\n",
      "    accuracy                           1.00     49366\n",
      "   macro avg       1.00      1.00      1.00     49366\n",
      "weighted avg       1.00      1.00      1.00     49366\n",
      "\n",
      "The Confusion Matrix:\n",
      " [[15602    64]\n",
      " [   86 33614]]\n"
     ]
    },
    {
     "name": "stderr",
     "output_type": "stream",
     "text": [
      "C:\\Users\\tomi_\\Anaconda3\\lib\\site-packages\\xgboost\\sklearn.py:1146: UserWarning: The use of label encoder in XGBClassifier is deprecated and will be removed in a future release. To remove this warning, do the following: 1) Pass option use_label_encoder=False when constructing XGBClassifier object; and 2) Encode your labels (y) as integers starting with 0, i.e. 0, 1, 2, ..., [num_class - 1].\n",
      "  warnings.warn(label_encoder_deprecation_msg, UserWarning)\n"
     ]
    },
    {
     "name": "stdout",
     "output_type": "stream",
     "text": [
      "[23:09:11] WARNING: C:/Users/Administrator/workspace/xgboost-win64_release_1.4.0/src/learner.cc:1095: Starting in XGBoost 1.3.0, the default evaluation metric used with the objective 'binary:logistic' was changed from 'error' to 'logloss'. Explicitly set eval_metric if you'd like to restore the old behavior.\n",
      "\n",
      "****************************XGBC\n",
      "The accuracy: 0.9998582020013774\n",
      "The Classification Report:\n",
      "               precision    recall  f1-score   support\n",
      "\n",
      "           0       1.00      1.00      1.00     15666\n",
      "           1       1.00      1.00      1.00     33700\n",
      "\n",
      "    accuracy                           1.00     49366\n",
      "   macro avg       1.00      1.00      1.00     49366\n",
      "weighted avg       1.00      1.00      1.00     49366\n",
      "\n",
      "The Confusion Matrix:\n",
      " [[15663     3]\n",
      " [    4 33696]]\n",
      "\n",
      "****************************RFC\n",
      "The accuracy: 0.9998784588583235\n",
      "The Classification Report:\n",
      "               precision    recall  f1-score   support\n",
      "\n",
      "           0       1.00      1.00      1.00     15666\n",
      "           1       1.00      1.00      1.00     33700\n",
      "\n",
      "    accuracy                           1.00     49366\n",
      "   macro avg       1.00      1.00      1.00     49366\n",
      "weighted avg       1.00      1.00      1.00     49366\n",
      "\n",
      "The Confusion Matrix:\n",
      " [[15666     0]\n",
      " [    6 33694]]\n"
     ]
    }
   ],
   "source": [
    "from sklearn.metrics import accuracy_score\n",
    "\n",
    "for name,model in models:\n",
    "    trainedmodel = model.fit(X_train_c,y_train_c)\n",
    "    \n",
    "    # prediction\n",
    "    ypredict_c = trainedmodel.predict(X_test_c)\n",
    "    \n",
    "    acc = accuracy_score(y_test_c,ypredict_c)\n",
    "    classreport = classification_report(y_test_c,ypredict_c)\n",
    "    confMat = confusion_matrix(y_test_c,ypredict_c)\n",
    "    \n",
    "    print('\\n****************************'+name)\n",
    "    print('The accuracy: {}'.format(acc))\n",
    "    print('The Classification Report:\\n {}'.format(classreport))\n",
    "    print('The Confusion Matrix:\\n {}'.format(confMat))\n",
    "    \n",
    "    \n",
    "    # save models\n",
    "    import pickle as pk\n",
    "    \n",
    "    with open('model_'+name+'.pickle','wb') as f:\n",
    "        pk.dump(trainedmodel,f)"
   ]
  },
  {
   "cell_type": "markdown",
   "metadata": {},
   "source": [
    "### <font color='red'> Random Forest Classifier y Logistic Regression son los dos mejores modelos al presentar la menor cantidad de falsos positivos y falsos negativos</font> "
   ]
  },
  {
   "cell_type": "markdown",
   "metadata": {},
   "source": [
    "### Ecportación de fichero para utilización en Tasca de Clusterización"
   ]
  },
  {
   "cell_type": "code",
   "execution_count": 105,
   "metadata": {},
   "outputs": [],
   "source": [
    "train3.to_csv('train3.csv')"
   ]
  },
  {
   "cell_type": "markdown",
   "metadata": {},
   "source": [
    "# EJERCICIO 6: Modelos excluyendo \"DepDelay\""
   ]
  },
  {
   "cell_type": "markdown",
   "metadata": {},
   "source": [
    "### Modelo con selección de variables básicas sin DepDelay"
   ]
  },
  {
   "cell_type": "code",
   "execution_count": 83,
   "metadata": {},
   "outputs": [],
   "source": [
    "train_columns_to_drop_final = ['DepDelay', 'FullCarrier', 'Origin', 'Dest', 'Delay_level', 'ArrTime_Range', 'DepTime_Range', 'Unnamed: 0', 'index', 'Cancelled', 'ArrDelay', 'CRSElapsedTime', 'ArrTime', 'DepTime', '10%_Delayed']"
   ]
  },
  {
   "cell_type": "code",
   "execution_count": 84,
   "metadata": {},
   "outputs": [
    {
     "data": {
      "text/html": [
       "<div>\n",
       "<style scoped>\n",
       "    .dataframe tbody tr th:only-of-type {\n",
       "        vertical-align: middle;\n",
       "    }\n",
       "\n",
       "    .dataframe tbody tr th {\n",
       "        vertical-align: top;\n",
       "    }\n",
       "\n",
       "    .dataframe thead th {\n",
       "        text-align: right;\n",
       "    }\n",
       "</style>\n",
       "<table border=\"1\" class=\"dataframe\">\n",
       "  <thead>\n",
       "    <tr style=\"text-align: right;\">\n",
       "      <th></th>\n",
       "      <th>DayOfWeek</th>\n",
       "      <th>AirTime</th>\n",
       "      <th>Distance</th>\n",
       "      <th>AvgSpeed</th>\n",
       "      <th>ArrDelay_vs_CRSElapsedTime</th>\n",
       "    </tr>\n",
       "  </thead>\n",
       "  <tbody>\n",
       "    <tr>\n",
       "      <td>433956</td>\n",
       "      <td>1</td>\n",
       "      <td>-0.295680</td>\n",
       "      <td>-0.254649</td>\n",
       "      <td>0.246426</td>\n",
       "      <td>-0.567365</td>\n",
       "    </tr>\n",
       "    <tr>\n",
       "      <td>1178304</td>\n",
       "      <td>7</td>\n",
       "      <td>0.360211</td>\n",
       "      <td>0.177614</td>\n",
       "      <td>-0.058033</td>\n",
       "      <td>-0.150075</td>\n",
       "    </tr>\n",
       "    <tr>\n",
       "      <td>1331798</td>\n",
       "      <td>4</td>\n",
       "      <td>-0.295680</td>\n",
       "      <td>-0.498669</td>\n",
       "      <td>-0.693538</td>\n",
       "      <td>-0.094542</td>\n",
       "    </tr>\n",
       "    <tr>\n",
       "      <td>1473141</td>\n",
       "      <td>4</td>\n",
       "      <td>-0.936995</td>\n",
       "      <td>-0.930932</td>\n",
       "      <td>-0.807661</td>\n",
       "      <td>-0.700645</td>\n",
       "    </tr>\n",
       "    <tr>\n",
       "      <td>1221532</td>\n",
       "      <td>5</td>\n",
       "      <td>2.808869</td>\n",
       "      <td>2.851370</td>\n",
       "      <td>0.803255</td>\n",
       "      <td>-0.446779</td>\n",
       "    </tr>\n",
       "    <tr>\n",
       "      <td>...</td>\n",
       "      <td>...</td>\n",
       "      <td>...</td>\n",
       "      <td>...</td>\n",
       "      <td>...</td>\n",
       "      <td>...</td>\n",
       "    </tr>\n",
       "    <tr>\n",
       "      <td>795999</td>\n",
       "      <td>7</td>\n",
       "      <td>-1.184776</td>\n",
       "      <td>-1.154035</td>\n",
       "      <td>-1.655559</td>\n",
       "      <td>0.854279</td>\n",
       "    </tr>\n",
       "    <tr>\n",
       "      <td>14802</td>\n",
       "      <td>7</td>\n",
       "      <td>-1.228502</td>\n",
       "      <td>-1.143577</td>\n",
       "      <td>-1.226145</td>\n",
       "      <td>-0.503899</td>\n",
       "    </tr>\n",
       "    <tr>\n",
       "      <td>1044164</td>\n",
       "      <td>3</td>\n",
       "      <td>-0.922420</td>\n",
       "      <td>-0.815894</td>\n",
       "      <td>-0.010080</td>\n",
       "      <td>-0.497552</td>\n",
       "    </tr>\n",
       "    <tr>\n",
       "      <td>192123</td>\n",
       "      <td>5</td>\n",
       "      <td>0.870348</td>\n",
       "      <td>1.463945</td>\n",
       "      <td>1.734850</td>\n",
       "      <td>2.066485</td>\n",
       "    </tr>\n",
       "    <tr>\n",
       "      <td>688572</td>\n",
       "      <td>3</td>\n",
       "      <td>-0.689214</td>\n",
       "      <td>-0.591047</td>\n",
       "      <td>0.216590</td>\n",
       "      <td>-0.097715</td>\n",
       "    </tr>\n",
       "  </tbody>\n",
       "</table>\n",
       "<p>246830 rows × 5 columns</p>\n",
       "</div>"
      ],
      "text/plain": [
       "         DayOfWeek   AirTime  Distance  AvgSpeed  ArrDelay_vs_CRSElapsedTime\n",
       "433956           1 -0.295680 -0.254649  0.246426                   -0.567365\n",
       "1178304          7  0.360211  0.177614 -0.058033                   -0.150075\n",
       "1331798          4 -0.295680 -0.498669 -0.693538                   -0.094542\n",
       "1473141          4 -0.936995 -0.930932 -0.807661                   -0.700645\n",
       "1221532          5  2.808869  2.851370  0.803255                   -0.446779\n",
       "...            ...       ...       ...       ...                         ...\n",
       "795999           7 -1.184776 -1.154035 -1.655559                    0.854279\n",
       "14802            7 -1.228502 -1.143577 -1.226145                   -0.503899\n",
       "1044164          3 -0.922420 -0.815894 -0.010080                   -0.497552\n",
       "192123           5  0.870348  1.463945  1.734850                    2.066485\n",
       "688572           3 -0.689214 -0.591047  0.216590                   -0.097715\n",
       "\n",
       "[246830 rows x 5 columns]"
      ]
     },
     "execution_count": 84,
     "metadata": {},
     "output_type": "execute_result"
    }
   ],
   "source": [
    "train.drop(columns=train_columns_to_drop_final, axis=1)"
   ]
  },
  {
   "cell_type": "code",
   "execution_count": 85,
   "metadata": {},
   "outputs": [],
   "source": [
    "X_train_final = train.drop(columns = train_columns_to_drop_final, axis=1).values\n",
    "y_train_final = train['10%_Delayed'].values"
   ]
  },
  {
   "cell_type": "code",
   "execution_count": 86,
   "metadata": {},
   "outputs": [
    {
     "data": {
      "text/plain": [
       "array([[ 1.        , -0.29567999, -0.25464905,  0.2464258 , -0.56736541],\n",
       "       [ 7.        ,  0.36021072,  0.17761403, -0.05803349, -0.15007458],\n",
       "       [ 4.        , -0.29567999, -0.49866854, -0.69353809, -0.09454158],\n",
       "       ...,\n",
       "       [ 3.        , -0.92242   , -0.81589386, -0.01008016, -0.4975525 ],\n",
       "       [ 5.        ,  0.87034794,  1.46394531,  1.73484966,  2.06648548],\n",
       "       [ 3.        , -0.68921441, -0.59104734,  0.21659037, -0.09771489]])"
      ]
     },
     "execution_count": 86,
     "metadata": {},
     "output_type": "execute_result"
    }
   ],
   "source": [
    "X_train_final"
   ]
  },
  {
   "cell_type": "code",
   "execution_count": 87,
   "metadata": {},
   "outputs": [],
   "source": [
    "X_test_final = test.drop(columns = train_columns_to_drop_final, axis=1).values\n",
    "y_test_final = test['10%_Delayed'].values"
   ]
  },
  {
   "cell_type": "code",
   "execution_count": 88,
   "metadata": {},
   "outputs": [
    {
     "data": {
      "text/plain": [
       "array([[ 5.        ,  1.38048515,  2.38424736,  2.29837504, -0.70223127],\n",
       "       [ 3.        , -0.64548836, -0.86818375, -1.44464269,  8.14179576],\n",
       "       [ 1.        ,  2.167554  ,  2.65441179,  1.35033688, -0.46264604],\n",
       "       ...,\n",
       "       [ 7.        , -0.73294046, -0.67645416, -0.06916023,  2.36001705],\n",
       "       [ 2.        , -0.82039255, -0.70957109,  0.1581011 , -0.61337847],\n",
       "       [ 4.        ,  0.50596421,  0.39548857,  0.18901967, -0.02790198]])"
      ]
     },
     "execution_count": 88,
     "metadata": {},
     "output_type": "execute_result"
    }
   ],
   "source": [
    "X_test_final"
   ]
  },
  {
   "cell_type": "code",
   "execution_count": 89,
   "metadata": {},
   "outputs": [
    {
     "data": {
      "text/html": [
       "<div>\n",
       "<style scoped>\n",
       "    .dataframe tbody tr th:only-of-type {\n",
       "        vertical-align: middle;\n",
       "    }\n",
       "\n",
       "    .dataframe tbody tr th {\n",
       "        vertical-align: top;\n",
       "    }\n",
       "\n",
       "    .dataframe thead th {\n",
       "        text-align: right;\n",
       "    }\n",
       "</style>\n",
       "<table border=\"1\" class=\"dataframe\">\n",
       "  <thead>\n",
       "    <tr style=\"text-align: right;\">\n",
       "      <th></th>\n",
       "      <th>DayOfWeek</th>\n",
       "      <th>AirTime</th>\n",
       "      <th>Distance</th>\n",
       "      <th>AvgSpeed</th>\n",
       "      <th>ArrDelay_vs_CRSElapsedTime</th>\n",
       "    </tr>\n",
       "  </thead>\n",
       "  <tbody>\n",
       "    <tr>\n",
       "      <td>433956</td>\n",
       "      <td>1</td>\n",
       "      <td>-0.295680</td>\n",
       "      <td>-0.254649</td>\n",
       "      <td>0.246426</td>\n",
       "      <td>-0.567365</td>\n",
       "    </tr>\n",
       "    <tr>\n",
       "      <td>1178304</td>\n",
       "      <td>7</td>\n",
       "      <td>0.360211</td>\n",
       "      <td>0.177614</td>\n",
       "      <td>-0.058033</td>\n",
       "      <td>-0.150075</td>\n",
       "    </tr>\n",
       "    <tr>\n",
       "      <td>1331798</td>\n",
       "      <td>4</td>\n",
       "      <td>-0.295680</td>\n",
       "      <td>-0.498669</td>\n",
       "      <td>-0.693538</td>\n",
       "      <td>-0.094542</td>\n",
       "    </tr>\n",
       "    <tr>\n",
       "      <td>1473141</td>\n",
       "      <td>4</td>\n",
       "      <td>-0.936995</td>\n",
       "      <td>-0.930932</td>\n",
       "      <td>-0.807661</td>\n",
       "      <td>-0.700645</td>\n",
       "    </tr>\n",
       "    <tr>\n",
       "      <td>1221532</td>\n",
       "      <td>5</td>\n",
       "      <td>2.808869</td>\n",
       "      <td>2.851370</td>\n",
       "      <td>0.803255</td>\n",
       "      <td>-0.446779</td>\n",
       "    </tr>\n",
       "  </tbody>\n",
       "</table>\n",
       "</div>"
      ],
      "text/plain": [
       "         DayOfWeek   AirTime  Distance  AvgSpeed  ArrDelay_vs_CRSElapsedTime\n",
       "433956           1 -0.295680 -0.254649  0.246426                   -0.567365\n",
       "1178304          7  0.360211  0.177614 -0.058033                   -0.150075\n",
       "1331798          4 -0.295680 -0.498669 -0.693538                   -0.094542\n",
       "1473141          4 -0.936995 -0.930932 -0.807661                   -0.700645\n",
       "1221532          5  2.808869  2.851370  0.803255                   -0.446779"
      ]
     },
     "execution_count": 89,
     "metadata": {},
     "output_type": "execute_result"
    }
   ],
   "source": [
    "train.drop(columns=train_columns_to_drop_final, axis=1).head()"
   ]
  },
  {
   "cell_type": "code",
   "execution_count": 90,
   "metadata": {},
   "outputs": [
    {
     "data": {
      "text/plain": [
       "array([0, 1, 1, ..., 0, 1, 1], dtype=int64)"
      ]
     },
     "execution_count": 90,
     "metadata": {},
     "output_type": "execute_result"
    }
   ],
   "source": [
    "y_train_final"
   ]
  },
  {
   "cell_type": "markdown",
   "metadata": {},
   "source": [
    "### Análisis de performance del modelo"
   ]
  },
  {
   "cell_type": "code",
   "execution_count": 91,
   "metadata": {
    "scrolled": false
   },
   "outputs": [
    {
     "name": "stdout",
     "output_type": "stream",
     "text": [
      "LR 0.9984969405580048\n",
      "DTC 0.99979337991142\n",
      "KNN 0.9758376197044193\n",
      "XGBC 0.9998257908989485\n",
      "RFC 0.9998784588583196\n"
     ]
    }
   ],
   "source": [
    "modeloutcomes_final = []\n",
    "modelnames_final = []\n",
    "for name, model in models:\n",
    "        v_results_final = cross_val_score(model, X_train_final, y_train_final, cv = 3, \n",
    "                                     scoring='accuracy', n_jobs = -1, verbose = 0)\n",
    "        print(name,v_results_final.mean())\n",
    "        modeloutcomes_final.append(v_results_final)\n",
    "        modelnames_final.append(name)"
   ]
  },
  {
   "cell_type": "markdown",
   "metadata": {},
   "source": [
    "### <font color='red'> La precisión del modelo baja significativamente al eliminar \"DepDelay\" como variable independiente </font> "
   ]
  },
  {
   "cell_type": "markdown",
   "metadata": {},
   "source": [
    "### Modelo con \"feature engeneering\" sin DepDelay"
   ]
  },
  {
   "cell_type": "code",
   "execution_count": 92,
   "metadata": {},
   "outputs": [],
   "source": [
    "columns_to_drop3_final = ['DepDelay', 'Unnamed: 0', 'index', 'Cancelled', 'ArrDelay', 'CRSElapsedTime', 'ArrTime', 'DepTime', '10%_Delayed']"
   ]
  },
  {
   "cell_type": "code",
   "execution_count": 93,
   "metadata": {},
   "outputs": [],
   "source": [
    "X_train3_final = train3.drop(columns = columns_to_drop3_final, axis=1).values\n",
    "y_train3_final = train3['10%_Delayed'].values"
   ]
  },
  {
   "cell_type": "markdown",
   "metadata": {},
   "source": [
    "##### Checking same amount of columns:"
   ]
  },
  {
   "cell_type": "code",
   "execution_count": 94,
   "metadata": {
    "scrolled": true
   },
   "outputs": [
    {
     "name": "stdout",
     "output_type": "stream",
     "text": [
      "623\n",
      "623\n"
     ]
    }
   ],
   "source": [
    "print(len(train3.drop(columns = columns_to_drop3_final, axis=1).columns))\n",
    "print(len(test3.drop(columns = columns_to_drop3_final, axis=1).columns))"
   ]
  },
  {
   "cell_type": "code",
   "execution_count": 95,
   "metadata": {},
   "outputs": [
    {
     "data": {
      "text/plain": [
       "array([[ 4.        , -0.52888557, -0.59279034, ...,  0.        ,\n",
       "         0.        ,  0.        ],\n",
       "       [ 6.        ,  1.29303306,  1.69750681, ...,  0.        ,\n",
       "         0.        ,  0.        ],\n",
       "       [ 5.        , -0.0624744 , -0.15181227, ...,  0.        ,\n",
       "         0.        ,  0.        ],\n",
       "       ...,\n",
       "       [ 3.        ,  0.75374514,  0.82252267, ...,  0.        ,\n",
       "         0.        ,  0.        ],\n",
       "       [ 1.        , -0.71836511, -0.62590727, ...,  0.        ,\n",
       "         0.        ,  0.        ],\n",
       "       [ 5.        , -0.0333237 , -0.24244808, ...,  0.        ,\n",
       "         0.        ,  0.        ]])"
      ]
     },
     "execution_count": 95,
     "metadata": {},
     "output_type": "execute_result"
    }
   ],
   "source": [
    "X_train3_final"
   ]
  },
  {
   "cell_type": "code",
   "execution_count": 96,
   "metadata": {},
   "outputs": [],
   "source": [
    "X_test3_final = test3.drop(columns = columns_to_drop3_final, axis=1).values\n",
    "y_test3_final = test3['10%_Delayed'].values"
   ]
  },
  {
   "cell_type": "code",
   "execution_count": 97,
   "metadata": {},
   "outputs": [
    {
     "data": {
      "text/plain": [
       "array([[ 3.        ,  0.19988188, -0.15355527, ...,  0.        ,\n",
       "         0.        ,  0.        ],\n",
       "       [ 1.        ,  0.25818328, -0.04723249, ...,  0.        ,\n",
       "         0.        ,  0.        ],\n",
       "       [ 4.        ,  0.75374514,  0.54364326, ...,  0.        ,\n",
       "         0.        ,  0.        ],\n",
       "       ...,\n",
       "       [ 7.        , -0.42685813, -0.49692554, ...,  0.        ,\n",
       "         0.        ,  0.        ],\n",
       "       [ 4.        , -0.16450185, -0.15355527, ...,  0.        ,\n",
       "         0.        ,  0.        ],\n",
       "       [ 7.        , -0.96614604, -0.88909971, ...,  0.        ,\n",
       "         0.        ,  0.        ]])"
      ]
     },
     "execution_count": 97,
     "metadata": {},
     "output_type": "execute_result"
    }
   ],
   "source": [
    "X_test3_final"
   ]
  },
  {
   "cell_type": "code",
   "execution_count": 98,
   "metadata": {},
   "outputs": [
    {
     "data": {
      "text/plain": [
       "array([1, 0, 0, ..., 0, 1, 1], dtype=int64)"
      ]
     },
     "execution_count": 98,
     "metadata": {},
     "output_type": "execute_result"
    }
   ],
   "source": [
    "y_train3_final"
   ]
  },
  {
   "cell_type": "code",
   "execution_count": 99,
   "metadata": {},
   "outputs": [
    {
     "data": {
      "text/html": [
       "<div>\n",
       "<style scoped>\n",
       "    .dataframe tbody tr th:only-of-type {\n",
       "        vertical-align: middle;\n",
       "    }\n",
       "\n",
       "    .dataframe tbody tr th {\n",
       "        vertical-align: top;\n",
       "    }\n",
       "\n",
       "    .dataframe thead th {\n",
       "        text-align: right;\n",
       "    }\n",
       "</style>\n",
       "<table border=\"1\" class=\"dataframe\">\n",
       "  <thead>\n",
       "    <tr style=\"text-align: right;\">\n",
       "      <th></th>\n",
       "      <th>DayOfWeek</th>\n",
       "      <th>AirTime</th>\n",
       "      <th>Distance</th>\n",
       "      <th>AvgSpeed</th>\n",
       "      <th>ArrDelay_vs_CRSElapsedTime</th>\n",
       "      <th>Delay_level</th>\n",
       "      <th>ArrTime_Range</th>\n",
       "      <th>DepTime_Range</th>\n",
       "      <th>FullCarrier_AirTran Airways Corporation</th>\n",
       "      <th>FullCarrier_Alaska Airlines Inc.</th>\n",
       "      <th>...</th>\n",
       "      <th>Dest_TYR</th>\n",
       "      <th>Dest_TYS</th>\n",
       "      <th>Dest_VLD</th>\n",
       "      <th>Dest_VPS</th>\n",
       "      <th>Dest_WRG</th>\n",
       "      <th>Dest_WYS</th>\n",
       "      <th>Dest_XNA</th>\n",
       "      <th>Dest_YAK</th>\n",
       "      <th>Dest_YKM</th>\n",
       "      <th>Dest_YUM</th>\n",
       "    </tr>\n",
       "  </thead>\n",
       "  <tbody>\n",
       "    <tr>\n",
       "      <td>1349054</td>\n",
       "      <td>4</td>\n",
       "      <td>-0.528886</td>\n",
       "      <td>-0.592790</td>\n",
       "      <td>-0.421967</td>\n",
       "      <td>0.609934</td>\n",
       "      <td>2</td>\n",
       "      <td>14</td>\n",
       "      <td>11</td>\n",
       "      <td>0</td>\n",
       "      <td>0</td>\n",
       "      <td>...</td>\n",
       "      <td>0</td>\n",
       "      <td>0</td>\n",
       "      <td>0</td>\n",
       "      <td>0</td>\n",
       "      <td>0</td>\n",
       "      <td>0</td>\n",
       "      <td>0</td>\n",
       "      <td>0</td>\n",
       "      <td>0</td>\n",
       "      <td>0</td>\n",
       "    </tr>\n",
       "    <tr>\n",
       "      <td>908608</td>\n",
       "      <td>6</td>\n",
       "      <td>1.293033</td>\n",
       "      <td>1.697507</td>\n",
       "      <td>1.305830</td>\n",
       "      <td>-0.608618</td>\n",
       "      <td>3</td>\n",
       "      <td>7</td>\n",
       "      <td>1</td>\n",
       "      <td>0</td>\n",
       "      <td>0</td>\n",
       "      <td>...</td>\n",
       "      <td>0</td>\n",
       "      <td>0</td>\n",
       "      <td>0</td>\n",
       "      <td>0</td>\n",
       "      <td>0</td>\n",
       "      <td>0</td>\n",
       "      <td>0</td>\n",
       "      <td>0</td>\n",
       "      <td>0</td>\n",
       "      <td>0</td>\n",
       "    </tr>\n",
       "    <tr>\n",
       "      <td>926273</td>\n",
       "      <td>5</td>\n",
       "      <td>-0.062474</td>\n",
       "      <td>-0.151812</td>\n",
       "      <td>-0.057837</td>\n",
       "      <td>-0.692711</td>\n",
       "      <td>3</td>\n",
       "      <td>11</td>\n",
       "      <td>10</td>\n",
       "      <td>0</td>\n",
       "      <td>0</td>\n",
       "      <td>...</td>\n",
       "      <td>0</td>\n",
       "      <td>0</td>\n",
       "      <td>0</td>\n",
       "      <td>0</td>\n",
       "      <td>0</td>\n",
       "      <td>0</td>\n",
       "      <td>0</td>\n",
       "      <td>0</td>\n",
       "      <td>0</td>\n",
       "      <td>0</td>\n",
       "    </tr>\n",
       "    <tr>\n",
       "      <td>636981</td>\n",
       "      <td>4</td>\n",
       "      <td>1.876047</td>\n",
       "      <td>2.748534</td>\n",
       "      <td>1.928829</td>\n",
       "      <td>-0.691125</td>\n",
       "      <td>3</td>\n",
       "      <td>14</td>\n",
       "      <td>7</td>\n",
       "      <td>0</td>\n",
       "      <td>0</td>\n",
       "      <td>...</td>\n",
       "      <td>0</td>\n",
       "      <td>0</td>\n",
       "      <td>0</td>\n",
       "      <td>0</td>\n",
       "      <td>0</td>\n",
       "      <td>0</td>\n",
       "      <td>0</td>\n",
       "      <td>0</td>\n",
       "      <td>0</td>\n",
       "      <td>0</td>\n",
       "    </tr>\n",
       "    <tr>\n",
       "      <td>511971</td>\n",
       "      <td>7</td>\n",
       "      <td>-0.995297</td>\n",
       "      <td>-0.920474</td>\n",
       "      <td>-0.408871</td>\n",
       "      <td>-0.586405</td>\n",
       "      <td>3</td>\n",
       "      <td>12</td>\n",
       "      <td>11</td>\n",
       "      <td>0</td>\n",
       "      <td>0</td>\n",
       "      <td>...</td>\n",
       "      <td>0</td>\n",
       "      <td>0</td>\n",
       "      <td>0</td>\n",
       "      <td>0</td>\n",
       "      <td>0</td>\n",
       "      <td>0</td>\n",
       "      <td>0</td>\n",
       "      <td>0</td>\n",
       "      <td>0</td>\n",
       "      <td>0</td>\n",
       "    </tr>\n",
       "  </tbody>\n",
       "</table>\n",
       "<p>5 rows × 623 columns</p>\n",
       "</div>"
      ],
      "text/plain": [
       "         DayOfWeek   AirTime  Distance  AvgSpeed  ArrDelay_vs_CRSElapsedTime  \\\n",
       "1349054          4 -0.528886 -0.592790 -0.421967                    0.609934   \n",
       "908608           6  1.293033  1.697507  1.305830                   -0.608618   \n",
       "926273           5 -0.062474 -0.151812 -0.057837                   -0.692711   \n",
       "636981           4  1.876047  2.748534  1.928829                   -0.691125   \n",
       "511971           7 -0.995297 -0.920474 -0.408871                   -0.586405   \n",
       "\n",
       "         Delay_level  ArrTime_Range  DepTime_Range  \\\n",
       "1349054            2             14             11   \n",
       "908608             3              7              1   \n",
       "926273             3             11             10   \n",
       "636981             3             14              7   \n",
       "511971             3             12             11   \n",
       "\n",
       "         FullCarrier_AirTran Airways Corporation  \\\n",
       "1349054                                        0   \n",
       "908608                                         0   \n",
       "926273                                         0   \n",
       "636981                                         0   \n",
       "511971                                         0   \n",
       "\n",
       "         FullCarrier_Alaska Airlines Inc.  ...  Dest_TYR  Dest_TYS  Dest_VLD  \\\n",
       "1349054                                 0  ...         0         0         0   \n",
       "908608                                  0  ...         0         0         0   \n",
       "926273                                  0  ...         0         0         0   \n",
       "636981                                  0  ...         0         0         0   \n",
       "511971                                  0  ...         0         0         0   \n",
       "\n",
       "         Dest_VPS  Dest_WRG  Dest_WYS  Dest_XNA  Dest_YAK  Dest_YKM  Dest_YUM  \n",
       "1349054         0         0         0         0         0         0         0  \n",
       "908608          0         0         0         0         0         0         0  \n",
       "926273          0         0         0         0         0         0         0  \n",
       "636981          0         0         0         0         0         0         0  \n",
       "511971          0         0         0         0         0         0         0  \n",
       "\n",
       "[5 rows x 623 columns]"
      ]
     },
     "execution_count": 99,
     "metadata": {},
     "output_type": "execute_result"
    }
   ],
   "source": [
    "train3.drop(columns=columns_to_drop3_final, axis=1).head()"
   ]
  },
  {
   "cell_type": "code",
   "execution_count": 100,
   "metadata": {},
   "outputs": [
    {
     "data": {
      "text/html": [
       "<div>\n",
       "<style scoped>\n",
       "    .dataframe tbody tr th:only-of-type {\n",
       "        vertical-align: middle;\n",
       "    }\n",
       "\n",
       "    .dataframe tbody tr th {\n",
       "        vertical-align: top;\n",
       "    }\n",
       "\n",
       "    .dataframe thead th {\n",
       "        text-align: right;\n",
       "    }\n",
       "</style>\n",
       "<table border=\"1\" class=\"dataframe\">\n",
       "  <thead>\n",
       "    <tr style=\"text-align: right;\">\n",
       "      <th></th>\n",
       "      <th>DayOfWeek</th>\n",
       "      <th>AirTime</th>\n",
       "      <th>Distance</th>\n",
       "      <th>AvgSpeed</th>\n",
       "      <th>ArrDelay_vs_CRSElapsedTime</th>\n",
       "      <th>Delay_level</th>\n",
       "      <th>ArrTime_Range</th>\n",
       "      <th>DepTime_Range</th>\n",
       "      <th>FullCarrier_AirTran Airways Corporation</th>\n",
       "      <th>FullCarrier_Alaska Airlines Inc.</th>\n",
       "      <th>...</th>\n",
       "      <th>Dest_TYR</th>\n",
       "      <th>Dest_TYS</th>\n",
       "      <th>Dest_VLD</th>\n",
       "      <th>Dest_VPS</th>\n",
       "      <th>Dest_WRG</th>\n",
       "      <th>Dest_WYS</th>\n",
       "      <th>Dest_XNA</th>\n",
       "      <th>Dest_YAK</th>\n",
       "      <th>Dest_YKM</th>\n",
       "      <th>Dest_YUM</th>\n",
       "    </tr>\n",
       "  </thead>\n",
       "  <tbody>\n",
       "    <tr>\n",
       "      <td>755946</td>\n",
       "      <td>3</td>\n",
       "      <td>0.199882</td>\n",
       "      <td>-0.153555</td>\n",
       "      <td>-0.630913</td>\n",
       "      <td>0.295776</td>\n",
       "      <td>2</td>\n",
       "      <td>17</td>\n",
       "      <td>15</td>\n",
       "      <td>0</td>\n",
       "      <td>0</td>\n",
       "      <td>...</td>\n",
       "      <td>0</td>\n",
       "      <td>0</td>\n",
       "      <td>0</td>\n",
       "      <td>0</td>\n",
       "      <td>0</td>\n",
       "      <td>0</td>\n",
       "      <td>0</td>\n",
       "      <td>0</td>\n",
       "      <td>0</td>\n",
       "      <td>0</td>\n",
       "    </tr>\n",
       "    <tr>\n",
       "      <td>942031</td>\n",
       "      <td>1</td>\n",
       "      <td>0.258183</td>\n",
       "      <td>-0.047232</td>\n",
       "      <td>-0.448947</td>\n",
       "      <td>0.367176</td>\n",
       "      <td>2</td>\n",
       "      <td>13</td>\n",
       "      <td>11</td>\n",
       "      <td>0</td>\n",
       "      <td>0</td>\n",
       "      <td>...</td>\n",
       "      <td>0</td>\n",
       "      <td>0</td>\n",
       "      <td>0</td>\n",
       "      <td>0</td>\n",
       "      <td>0</td>\n",
       "      <td>0</td>\n",
       "      <td>0</td>\n",
       "      <td>0</td>\n",
       "      <td>0</td>\n",
       "      <td>0</td>\n",
       "    </tr>\n",
       "    <tr>\n",
       "      <td>1443796</td>\n",
       "      <td>4</td>\n",
       "      <td>0.753745</td>\n",
       "      <td>0.543643</td>\n",
       "      <td>0.067512</td>\n",
       "      <td>-0.435673</td>\n",
       "      <td>0</td>\n",
       "      <td>17</td>\n",
       "      <td>14</td>\n",
       "      <td>0</td>\n",
       "      <td>0</td>\n",
       "      <td>...</td>\n",
       "      <td>0</td>\n",
       "      <td>0</td>\n",
       "      <td>0</td>\n",
       "      <td>0</td>\n",
       "      <td>0</td>\n",
       "      <td>0</td>\n",
       "      <td>0</td>\n",
       "      <td>0</td>\n",
       "      <td>0</td>\n",
       "      <td>0</td>\n",
       "    </tr>\n",
       "    <tr>\n",
       "      <td>523763</td>\n",
       "      <td>7</td>\n",
       "      <td>-0.572612</td>\n",
       "      <td>-0.554444</td>\n",
       "      <td>-0.081961</td>\n",
       "      <td>-0.150075</td>\n",
       "      <td>1</td>\n",
       "      <td>14</td>\n",
       "      <td>13</td>\n",
       "      <td>0</td>\n",
       "      <td>0</td>\n",
       "      <td>...</td>\n",
       "      <td>0</td>\n",
       "      <td>0</td>\n",
       "      <td>0</td>\n",
       "      <td>0</td>\n",
       "      <td>0</td>\n",
       "      <td>0</td>\n",
       "      <td>0</td>\n",
       "      <td>0</td>\n",
       "      <td>0</td>\n",
       "      <td>0</td>\n",
       "    </tr>\n",
       "    <tr>\n",
       "      <td>731764</td>\n",
       "      <td>7</td>\n",
       "      <td>-0.412283</td>\n",
       "      <td>-0.488211</td>\n",
       "      <td>-0.327636</td>\n",
       "      <td>-0.429326</td>\n",
       "      <td>0</td>\n",
       "      <td>14</td>\n",
       "      <td>12</td>\n",
       "      <td>0</td>\n",
       "      <td>0</td>\n",
       "      <td>...</td>\n",
       "      <td>0</td>\n",
       "      <td>0</td>\n",
       "      <td>0</td>\n",
       "      <td>0</td>\n",
       "      <td>0</td>\n",
       "      <td>0</td>\n",
       "      <td>0</td>\n",
       "      <td>0</td>\n",
       "      <td>0</td>\n",
       "      <td>0</td>\n",
       "    </tr>\n",
       "  </tbody>\n",
       "</table>\n",
       "<p>5 rows × 623 columns</p>\n",
       "</div>"
      ],
      "text/plain": [
       "         DayOfWeek   AirTime  Distance  AvgSpeed  ArrDelay_vs_CRSElapsedTime  \\\n",
       "755946           3  0.199882 -0.153555 -0.630913                    0.295776   \n",
       "942031           1  0.258183 -0.047232 -0.448947                    0.367176   \n",
       "1443796          4  0.753745  0.543643  0.067512                   -0.435673   \n",
       "523763           7 -0.572612 -0.554444 -0.081961                   -0.150075   \n",
       "731764           7 -0.412283 -0.488211 -0.327636                   -0.429326   \n",
       "\n",
       "         Delay_level  ArrTime_Range  DepTime_Range  \\\n",
       "755946             2             17             15   \n",
       "942031             2             13             11   \n",
       "1443796            0             17             14   \n",
       "523763             1             14             13   \n",
       "731764             0             14             12   \n",
       "\n",
       "         FullCarrier_AirTran Airways Corporation  \\\n",
       "755946                                         0   \n",
       "942031                                         0   \n",
       "1443796                                        0   \n",
       "523763                                         0   \n",
       "731764                                         0   \n",
       "\n",
       "         FullCarrier_Alaska Airlines Inc.  ...  Dest_TYR  Dest_TYS  Dest_VLD  \\\n",
       "755946                                  0  ...         0         0         0   \n",
       "942031                                  0  ...         0         0         0   \n",
       "1443796                                 0  ...         0         0         0   \n",
       "523763                                  0  ...         0         0         0   \n",
       "731764                                  0  ...         0         0         0   \n",
       "\n",
       "         Dest_VPS  Dest_WRG  Dest_WYS  Dest_XNA  Dest_YAK  Dest_YKM  Dest_YUM  \n",
       "755946          0         0         0         0         0         0         0  \n",
       "942031          0         0         0         0         0         0         0  \n",
       "1443796         0         0         0         0         0         0         0  \n",
       "523763          0         0         0         0         0         0         0  \n",
       "731764          0         0         0         0         0         0         0  \n",
       "\n",
       "[5 rows x 623 columns]"
      ]
     },
     "execution_count": 100,
     "metadata": {},
     "output_type": "execute_result"
    }
   ],
   "source": [
    "test3.drop(columns=columns_to_drop3_final, axis=1).head()"
   ]
  },
  {
   "cell_type": "markdown",
   "metadata": {},
   "source": [
    "### Evaluación del nuevo modelo"
   ]
  },
  {
   "cell_type": "code",
   "execution_count": 101,
   "metadata": {},
   "outputs": [
    {
     "name": "stdout",
     "output_type": "stream",
     "text": [
      "LR 0.9998683303785514\n",
      "DTC 0.9998227523734821\n",
      "KNN 0.9910262126288893\n",
      "XGBC 0.999792367011123\n",
      "RFC 0.9998733945414959\n"
     ]
    }
   ],
   "source": [
    "modeloutcomes_3_final = []\n",
    "modelnames_3_final = []\n",
    "for name, model in models:\n",
    "        v_results_3_final = cross_val_score(model, X_train3_final, y_train3_final, cv = 3, \n",
    "                                     scoring='accuracy', n_jobs = -1, verbose = 0)\n",
    "        print(name,v_results_3_final.mean())\n",
    "        modeloutcomes_3_final.append(v_results_3_final)\n",
    "        modelnames_3_final.append(name)"
   ]
  },
  {
   "cell_type": "markdown",
   "metadata": {},
   "source": [
    "### <font color='red'> La precisión del modelo baja significativamente al eliminar \"DepDelay\" como variable independiente </font> "
   ]
  },
  {
   "cell_type": "code",
   "execution_count": 102,
   "metadata": {},
   "outputs": [
    {
     "name": "stderr",
     "output_type": "stream",
     "text": [
      "C:\\Users\\tomi_\\Anaconda3\\lib\\site-packages\\sklearn\\linear_model\\_logistic.py:765: ConvergenceWarning: lbfgs failed to converge (status=1):\n",
      "STOP: TOTAL NO. of ITERATIONS REACHED LIMIT.\n",
      "\n",
      "Increase the number of iterations (max_iter) or scale the data as shown in:\n",
      "    https://scikit-learn.org/stable/modules/preprocessing.html\n",
      "Please also refer to the documentation for alternative solver options:\n",
      "    https://scikit-learn.org/stable/modules/linear_model.html#logistic-regression\n",
      "  extra_warning_msg=_LOGISTIC_SOLVER_CONVERGENCE_MSG)\n"
     ]
    },
    {
     "name": "stdout",
     "output_type": "stream",
     "text": [
      "\n",
      "****************************LR\n",
      "The accuracy: 0.9998784588583235\n",
      "The Classification Report:\n",
      "               precision    recall  f1-score   support\n",
      "\n",
      "           0       1.00      1.00      1.00     15666\n",
      "           1       1.00      1.00      1.00     33700\n",
      "\n",
      "    accuracy                           1.00     49366\n",
      "   macro avg       1.00      1.00      1.00     49366\n",
      "weighted avg       1.00      1.00      1.00     49366\n",
      "\n",
      "The Confusion Matrix:\n",
      " [[15666     0]\n",
      " [    6 33694]]\n",
      "\n",
      "****************************DTC\n",
      "The accuracy: 0.9998176882874853\n",
      "The Classification Report:\n",
      "               precision    recall  f1-score   support\n",
      "\n",
      "           0       1.00      1.00      1.00     15666\n",
      "           1       1.00      1.00      1.00     33700\n",
      "\n",
      "    accuracy                           1.00     49366\n",
      "   macro avg       1.00      1.00      1.00     49366\n",
      "weighted avg       1.00      1.00      1.00     49366\n",
      "\n",
      "The Confusion Matrix:\n",
      " [[15660     6]\n",
      " [    3 33697]]\n",
      "\n",
      "****************************KNN\n",
      "The accuracy: 0.9920187983632459\n",
      "The Classification Report:\n",
      "               precision    recall  f1-score   support\n",
      "\n",
      "           0       0.98      0.99      0.99     15666\n",
      "           1       1.00      0.99      0.99     33700\n",
      "\n",
      "    accuracy                           0.99     49366\n",
      "   macro avg       0.99      0.99      0.99     49366\n",
      "weighted avg       0.99      0.99      0.99     49366\n",
      "\n",
      "The Confusion Matrix:\n",
      " [[15546   120]\n",
      " [  274 33426]]\n"
     ]
    },
    {
     "name": "stderr",
     "output_type": "stream",
     "text": [
      "C:\\Users\\tomi_\\Anaconda3\\lib\\site-packages\\xgboost\\sklearn.py:1146: UserWarning: The use of label encoder in XGBClassifier is deprecated and will be removed in a future release. To remove this warning, do the following: 1) Pass option use_label_encoder=False when constructing XGBClassifier object; and 2) Encode your labels (y) as integers starting with 0, i.e. 0, 1, 2, ..., [num_class - 1].\n",
      "  warnings.warn(label_encoder_deprecation_msg, UserWarning)\n"
     ]
    },
    {
     "name": "stdout",
     "output_type": "stream",
     "text": [
      "[23:35:38] WARNING: C:/Users/Administrator/workspace/xgboost-win64_release_1.4.0/src/learner.cc:1095: Starting in XGBoost 1.3.0, the default evaluation metric used with the objective 'binary:logistic' was changed from 'error' to 'logloss'. Explicitly set eval_metric if you'd like to restore the old behavior.\n",
      "\n",
      "****************************XGBC\n",
      "The accuracy: 0.9998987157152697\n",
      "The Classification Report:\n",
      "               precision    recall  f1-score   support\n",
      "\n",
      "           0       1.00      1.00      1.00     15666\n",
      "           1       1.00      1.00      1.00     33700\n",
      "\n",
      "    accuracy                           1.00     49366\n",
      "   macro avg       1.00      1.00      1.00     49366\n",
      "weighted avg       1.00      1.00      1.00     49366\n",
      "\n",
      "The Confusion Matrix:\n",
      " [[15664     2]\n",
      " [    3 33697]]\n",
      "\n",
      "****************************RFC\n",
      "The accuracy: 0.9998784588583235\n",
      "The Classification Report:\n",
      "               precision    recall  f1-score   support\n",
      "\n",
      "           0       1.00      1.00      1.00     15666\n",
      "           1       1.00      1.00      1.00     33700\n",
      "\n",
      "    accuracy                           1.00     49366\n",
      "   macro avg       1.00      1.00      1.00     49366\n",
      "weighted avg       1.00      1.00      1.00     49366\n",
      "\n",
      "The Confusion Matrix:\n",
      " [[15666     0]\n",
      " [    6 33694]]\n"
     ]
    }
   ],
   "source": [
    "for name,model in models:\n",
    "    trainedmodel = model.fit(X_train3_final,y_train3_final)\n",
    "    \n",
    "    # prediction\n",
    "    ypredict3_c = trainedmodel.predict(X_test3_final)\n",
    "    \n",
    "    acc = accuracy_score(y_test3_final,ypredict3_c)\n",
    "    classreport = classification_report(y_test3_final,ypredict3_c)\n",
    "    confMat = confusion_matrix(y_test3_final,ypredict3_c)\n",
    "    \n",
    "    print('\\n****************************'+name)\n",
    "    print('The accuracy: {}'.format(acc))\n",
    "    print('The Classification Report:\\n {}'.format(classreport))\n",
    "    print('The Confusion Matrix:\\n {}'.format(confMat))\n",
    "    \n",
    "    \n",
    "    # save models\n",
    "    import pickle as pk\n",
    "    \n",
    "    with open('model_'+name+'.pickle','wb') as f:\n",
    "        pk.dump(trainedmodel,f)"
   ]
  },
  {
   "cell_type": "markdown",
   "metadata": {},
   "source": [
    "### <font color='red'> Con excepción de KNN, los modelos mantienen su precisión bastante alta y hasta mejoran, como es el caso de XGBC </font> "
   ]
  },
  {
   "cell_type": "code",
   "execution_count": null,
   "metadata": {},
   "outputs": [],
   "source": []
  },
  {
   "cell_type": "code",
   "execution_count": null,
   "metadata": {},
   "outputs": [],
   "source": []
  },
  {
   "cell_type": "code",
   "execution_count": null,
   "metadata": {},
   "outputs": [],
   "source": []
  },
  {
   "cell_type": "code",
   "execution_count": null,
   "metadata": {},
   "outputs": [],
   "source": []
  },
  {
   "cell_type": "code",
   "execution_count": null,
   "metadata": {},
   "outputs": [],
   "source": []
  }
 ],
 "metadata": {
  "kernelspec": {
   "display_name": "Python 3",
   "language": "python",
   "name": "python3"
  },
  "language_info": {
   "codemirror_mode": {
    "name": "ipython",
    "version": 3
   },
   "file_extension": ".py",
   "mimetype": "text/x-python",
   "name": "python",
   "nbconvert_exporter": "python",
   "pygments_lexer": "ipython3",
   "version": "3.7.4"
  }
 },
 "nbformat": 4,
 "nbformat_minor": 2
}
